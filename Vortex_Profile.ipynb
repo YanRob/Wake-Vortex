{
 "cells": [
  {
   "cell_type": "markdown",
   "id": "literary-squad",
   "metadata": {},
   "source": [
    "# Vortex Profile"
   ]
  },
  {
   "cell_type": "markdown",
   "id": "timely-sample",
   "metadata": {},
   "source": [
    "This notebook shows\n",
    "- how to fit a vortex profile obtained from LiDAR measurement\n",
    "- how to calculate the circulation of the vortex"
   ]
  },
  {
   "cell_type": "markdown",
   "id": "continental-recommendation",
   "metadata": {},
   "source": [
    "### Import libraries"
   ]
  },
  {
   "cell_type": "code",
   "execution_count": 1,
   "id": "middle-failure",
   "metadata": {},
   "outputs": [],
   "source": [
    "import random\n",
    "from math import pi, sqrt\n",
    "\n",
    "import matplotlib\n",
    "import matplotlib.pyplot as plt\n",
    "import numpy as np\n",
    "import pandas as pd\n",
    "from scipy.optimize import curve_fit\n",
    "from sklearn.metrics import mean_squared_error"
   ]
  },
  {
   "cell_type": "markdown",
   "id": "applied-pattern",
   "metadata": {},
   "source": [
    "## Vortex models"
   ]
  },
  {
   "cell_type": "markdown",
   "id": "worse-question",
   "metadata": {},
   "source": [
    "There are several ways to model a 2D vortex. "
   ]
  },
  {
   "cell_type": "markdown",
   "id": "sexual-religion",
   "metadata": {},
   "source": [
    "### Lamb-Oseen model"
   ]
  },
  {
   "cell_type": "markdown",
   "id": "discrete-message",
   "metadata": {},
   "source": [
    "https://en.wikipedia.org/wiki/Lamb%E2%80%93Oseen_vortex"
   ]
  },
  {
   "cell_type": "markdown",
   "id": "urban-filling",
   "metadata": {},
   "source": [
    "Here, we are interested in the form of the Lamb-Oseen model for wake vortices:\n",
    "\n",
    "$V(r) = \\frac{\\Gamma} {2 {\\pi}} (1 - exp(-1.256\\frac{r^2}{r_c^2}))$\n",
    "\n",
    "where:\n",
    "- ${\\Gamma}$ is the total circulation\n",
    "- ${r}$ is the distance from the vortex core or radial distance\n",
    "- ${r_c}$ is the mean vortex core, i.e. the half of distance between velocity peaks\n",
    "- ${V(r)}$ is the tangential velocity a r"
   ]
  },
  {
   "cell_type": "code",
   "execution_count": 2,
   "id": "educational-egypt",
   "metadata": {},
   "outputs": [],
   "source": [
    "def lamb_oseen(gamma, rc, r):\n",
    "    \"\"\"\n",
    "    gamma = circulation in m^2/s\n",
    "    rc = core_radius in m\n",
    "    r = radial distance in m\n",
    "    returns the tangential velocity\n",
    "    \"\"\"\n",
    "    # Small manipulation to avoid the case r = 0 below \n",
    "    r_new = (r == 0).astype(int) / 1000 + r\n",
    "    return gamma / (2 * pi * r_new) * (1 - np.exp( - 1.256 * r ** 2 / rc ** 2))"
   ]
  },
  {
   "cell_type": "markdown",
   "id": "nominated-peace",
   "metadata": {},
   "source": [
    "### Rankine model"
   ]
  },
  {
   "cell_type": "markdown",
   "id": "configured-speech",
   "metadata": {},
   "source": [
    "https://en.wikipedia.org/wiki/Rankine_vortex"
   ]
  },
  {
   "cell_type": "markdown",
   "id": "usual-compiler",
   "metadata": {},
   "source": [
    "The drawback the rankine model is its non-linearity. Therefore it won't be used."
   ]
  },
  {
   "cell_type": "markdown",
   "id": "brown-exhaust",
   "metadata": {},
   "source": [
    "$V(r) = \\frac{\\Gamma r}{2 {\\pi} r_c^2} $ for $r \\le R $\n",
    "\n",
    "$V(r) = \\frac{\\Gamma}{2 {\\pi} r} $ if $ for > R $\n",
    "\n",
    "\n",
    "where:\n",
    "- ${\\Gamma}$ is the total circulation\n",
    "- ${r}$ is the distance from the vortex core or radial distance\n",
    "- ${r_c}$ is the mean vortex core, i.e. the half of distance between velocity peaks\n",
    "- ${V(r)}$ is the tangential velocity a r"
   ]
  },
  {
   "cell_type": "code",
   "execution_count": 3,
   "id": "numeric-defense",
   "metadata": {},
   "outputs": [],
   "source": [
    "def rankine(gamma, rc, r):\n",
    "    \"\"\"\n",
    "    gamma = circulation in m^2/s\n",
    "    rc = core_radius in m\n",
    "    r = radial distance in m\n",
    "    returns the tangential velocity\n",
    "    \"\"\"\n",
    "    internal_V = (abs(r) <= rc).astype(int) * gamma * r /( 2 * pi * rc**2)\n",
    "    # Small manipulation to avoid the case r = 0 below \n",
    "    r_new = (r == 0).astype(int) / 1000 + r\n",
    "    external_V = (abs(r) > rc).astype(int) * gamma / (2 * pi * r_new)\n",
    "    return internal_V + external_V"
   ]
  },
  {
   "cell_type": "markdown",
   "id": "political-globe",
   "metadata": {},
   "source": [
    "### Burnham-Hallock model"
   ]
  },
  {
   "cell_type": "markdown",
   "id": "strategic-vulnerability",
   "metadata": {},
   "source": [
    "The Burnham-Hallock model is widely used for aircraft wake vortices.\n",
    "\n",
    "$V(r)=\\frac{\\Gamma}{2{\\pi}r}\\frac{r^2}{r^2+r_c^2}$\n",
    "\n",
    "where:\n",
    "- ${\\Gamma}$ is the total circulation\n",
    "- ${r}$ is the distance from the vortex core  or radial distance\n",
    "- ${r_c}$ is the mean vortex core, i.e. the half of distance between velocity peaks\n",
    "- ${V(r)}$ is the tangential velocity a r"
   ]
  },
  {
   "cell_type": "code",
   "execution_count": 4,
   "id": "chicken-baseball",
   "metadata": {},
   "outputs": [],
   "source": [
    "def burnham_hallock(gamma, rc, r):\n",
    "    \"\"\"\n",
    "    gamma = circulation in m^2/s\n",
    "    rc = core_radius in m\n",
    "    r = radial distance in m\n",
    "    returns the tangential velocity\n",
    "    \"\"\"\n",
    "    return gamma / (2 * pi) * r / (r ** 2 + rc ** 2)"
   ]
  },
  {
   "cell_type": "markdown",
   "id": "departmental-calvin",
   "metadata": {},
   "source": [
    "### Comparison of the models"
   ]
  },
  {
   "cell_type": "markdown",
   "id": "adult-kuwait",
   "metadata": {},
   "source": [
    "Let's define a vortex with 300m^2/s total circulation and a core radius of 4m between -20m and 20m and plot the vortex profile"
   ]
  },
  {
   "cell_type": "code",
   "execution_count": 5,
   "id": "engaged-words",
   "metadata": {},
   "outputs": [],
   "source": [
    "r_max = 20\n",
    "r_min = -r_max\n",
    "r_step = 0.5\n",
    "\n",
    "total_circulation = 300\n",
    "core_radius = 4\n",
    "\n",
    "radial_distance = np.arange(r_min, r_max+r_step, r_step)\n",
    "\n",
    "velocity_lo = lamb_oseen(total_circulation, core_radius, radial_distance)\n",
    "velocity_ra = rankine(total_circulation, core_radius, radial_distance)\n",
    "velocity_bh = burnham_hallock(total_circulation, core_radius, radial_distance)"
   ]
  },
  {
   "cell_type": "code",
   "execution_count": 6,
   "id": "chief-austin",
   "metadata": {},
   "outputs": [
    {
     "data": {
      "image/png": "[encoded data removed]",
      "text/plain": [
       "<Figure size 720x576 with 1 Axes>"
      ]
     },
     "metadata": {
      "needs_background": "light"
     },
     "output_type": "display_data"
    }
   ],
   "source": [
    "%matplotlib inline\n",
    "\n",
    "y_max = int(max(np.max(velocity_lo), np.max(velocity_ra), np.max(velocity_bh)) / 2) * 2 + 4\n",
    "x_max = r_max\n",
    "\n",
    "fig, ax = plt.subplots(figsize=(10, 8))\n",
    "\n",
    "xticks = np.arange(-x_max, x_max, 2)\n",
    "yticks = np.arange(-y_max, y_max, 2)\n",
    "\n",
    "plt.axhline(0, color='black', lw=0.5)\n",
    "plt.axvline(0, color='black', lw=0.5)\n",
    "plt.scatter([0],[0], color='red', label='vortex core')\n",
    "\n",
    "ax.plot(radial_distance, velocity_lo, color='blue', label='Lamb-Oseen')\n",
    "ax.plot(radial_distance, velocity_ra, color='green', label='Rankine')\n",
    "ax.plot(radial_distance, velocity_bh, color='magenta', label='Burnham-Hallock')\n",
    "\n",
    "ax.set(xlabel='distance from core (m)', ylabel='velocity (m/s)', title='Vortex profile')\n",
    "ax.set_xticks(xticks)\n",
    "ax.set_yticks(yticks)\n",
    "\n",
    "plt.xlim(-x_max, x_max)\n",
    "plt.ylim(-y_max, y_max)\n",
    "\n",
    "plt.grid(b=True)\n",
    "\n",
    "fig.savefig(\"./images/comparison_of_vortex_profiles.png\")\n",
    "plt.legend()\n",
    "plt.show()"
   ]
  },
  {
   "cell_type": "markdown",
   "id": "stretch-worry",
   "metadata": {},
   "source": [
    "## Reconstruction of a LiDAR envelope"
   ]
  },
  {
   "cell_type": "markdown",
   "id": "baking-natural",
   "metadata": {},
   "source": [
    "The analysis of aircraft wake vortices is made using data provided by post-processing of LiDAR measurements. These data consist of envelopes of the measured tangential velocity as a function of the radial distance (distance from the position of the vortex core).\n",
    "\n",
    "To make the data more realistic, following additional parameters must be added to the model equations:\n",
    "- random background noise\n",
    "- radial shift $\\Delta r_c$\n",
    "- tangential velocity shift $\\Delta V$\n",
    "- random error around the calculted profile $\\delta \\epsilon_V$\n",
    "\n",
    "The measurements are discrete, that means, that we obtained points on the velocity profile at a regular interval, the so-called LiDAR resolution."
   ]
  },
  {
   "cell_type": "code",
   "execution_count": 7,
   "id": "weekly-stewart",
   "metadata": {},
   "outputs": [],
   "source": [
    "def add_noise_to_envelope(velocity):\n",
    "    \"\"\"\n",
    "    Add noise to the envelope.\n",
    "    Noise is assumed to be 2 m/s\n",
    "    The envelope is crossing the y=0 only in the core\n",
    "    \"\"\"\n",
    "    noise = np.random.normal(1, 0.25, velocity.shape) * np.sign(velocity)\n",
    "    return np.maximum(np.abs(velocity), noise) * np.sign(velocity)"
   ]
  },
  {
   "cell_type": "code",
   "execution_count": 8,
   "id": "absent-leather",
   "metadata": {},
   "outputs": [],
   "source": [
    "def add_shift():\n",
    "    \"\"\"\n",
    "    Returns two random numbers for radial and velocity shift\n",
    "    \"\"\"\n",
    "    return random.gauss(0, 0.25), random.gauss(0, 0.25)"
   ]
  },
  {
   "cell_type": "code",
   "execution_count": 9,
   "id": "english-herald",
   "metadata": {},
   "outputs": [],
   "source": [
    "def add_random_error(velocity):\n",
    "    \"\"\"\n",
    "    Add random error to the velocity profile\n",
    "    An error of +/- 0.5 m/s is added to the profile\n",
    "    \"\"\"\n",
    "    return velocity + np.random.normal(0, 0.25, velocity.shape)"
   ]
  },
  {
   "cell_type": "code",
   "execution_count": 10,
   "id": "continued-visit",
   "metadata": {},
   "outputs": [],
   "source": [
    "def generate_lidar_envelope(Gamma, rc, r, model=burnham_hallock):\n",
    "    \"\"\"\n",
    "    Return the full vortex profile including noice, shifts and error\n",
    "    \"\"\"\n",
    "    Delta_r, Delta_V = add_shift()\n",
    "    # radial shift\n",
    "    r -= Delta_r\n",
    "    # Velocity profile\n",
    "    velocity_profile = model(Gamma, rc, r)\n",
    "    # add the noise\n",
    "    velocity_profile = add_noise_to_envelope(velocity_profile)\n",
    "    # add the random_error\n",
    "    velocity_profile = add_random_error(velocity_profile)\n",
    "    # Tangential velocity shift\n",
    "    return velocity_profile + Delta_V, Delta_r, Delta_V"
   ]
  },
  {
   "cell_type": "code",
   "execution_count": 11,
   "id": "realistic-vintage",
   "metadata": {},
   "outputs": [],
   "source": [
    "def set_lidar_resolution():\n",
    "    \"\"\"\n",
    "    Return the lidar resolution, i.e. the average radial distance between two data points\n",
    "    \"\"\"\n",
    "    return random.uniform(1, 3)"
   ]
  },
  {
   "cell_type": "markdown",
   "id": "ceramic-cedar",
   "metadata": {},
   "source": [
    "Let's define a vortex with 300m^2/s total circulation and a core radius of 3m between -100m and 100m and plot the vortex profile with the LiDAR envelope.\n",
    "\n",
    "For this exercise, we use a Burnham-Hallock profile."
   ]
  },
  {
   "cell_type": "code",
   "execution_count": 12,
   "id": "first-stupid",
   "metadata": {},
   "outputs": [],
   "source": [
    "r_max = 100\n",
    "r_min = -r_max\n",
    "r_step = set_lidar_resolution()\n",
    "\n",
    "total_circulation = 300\n",
    "core_radius = 4\n",
    "\n",
    "radial_distance = np.arange(r_min, r_max+r_step, r_step)\n",
    "radial_distance_model = np.arange(r_min, r_max+1, 0.5)\n",
    "\n",
    "velocity_lidar, Delta_r, Delta_V = generate_lidar_envelope(total_circulation, core_radius, radial_distance)\n",
    "velocity_model = burnham_hallock(total_circulation, core_radius, radial_distance_model)"
   ]
  },
  {
   "cell_type": "code",
   "execution_count": 13,
   "id": "rubber-playback",
   "metadata": {},
   "outputs": [
    {
     "data": {
      "image/png": "[encoded data removed]",
      "text/plain": [
       "<Figure size 720x576 with 1 Axes>"
      ]
     },
     "metadata": {
      "needs_background": "light"
     },
     "output_type": "display_data"
    }
   ],
   "source": [
    "%matplotlib inline\n",
    "\n",
    "y_max = int(max(velocity_lidar) / 2) * 2 + 4\n",
    "x_max = 50\n",
    "\n",
    "fig, ax = plt.subplots(figsize=(10, 8))\n",
    "\n",
    "xticks = np.arange(-x_max, x_max, 5)\n",
    "yticks = np.arange(-y_max, y_max, 2)\n",
    "\n",
    "plt.axhline(0, color='black', lw=0.5)\n",
    "plt.axvline(0, color='black', lw=0.5)\n",
    "plt.scatter([0],[0], color='red', label='vortex core')\n",
    "\n",
    "ax.scatter(radial_distance, velocity_lidar, color='blue', label='LiDAR envelope')\n",
    "ax.plot(radial_distance_model, velocity_model, color='green', label='model')\n",
    "\n",
    "ax.set(xlabel='distance from core (m)', ylabel='velocity (m/s)', title='Vortex profile')\n",
    "ax.set_xticks(xticks)\n",
    "ax.set_yticks(yticks)\n",
    "\n",
    "plt.xlim(-x_max, x_max)\n",
    "plt.ylim(-y_max, y_max)\n",
    "\n",
    "plt.grid(b=True)\n",
    "\n",
    "fig.savefig(\"./images/single_lidar_envelope.png\")\n",
    "plt.legend()\n",
    "plt.show()"
   ]
  },
  {
   "cell_type": "markdown",
   "id": "raised-waters",
   "metadata": {},
   "source": [
    "## Fitting of the LiDAR profile"
   ]
  },
  {
   "cell_type": "markdown",
   "id": "postal-convenience",
   "metadata": {},
   "source": [
    "The current step consists in doing the other way: from the reconstructed LiDAR profile, we will fit the data to estimate the original vortex characteristics\n",
    "\n",
    "The adapted Burnham-Hallock model fitting the reconstructed data or the vortex profile data obtained from the LiDAR processing looks like:\n",
    "\n",
    "$V(r)=\\frac{\\Gamma}{2{\\pi}(r-\\Delta r_c)}\\frac{(r-\\Delta r_c)^2}{(r-\\Delta r_c)^2+r_c^2} + \\Delta V$ \n",
    "\n",
    "Therefore, there are 4 unknown for this equation:\n",
    "- $\\Gamma$, the total circulation of the vortex\n",
    "- $r_c$, the core radius of the vortex\n",
    "- $\\Delta r_c$, the radial shift\n",
    "- $\\Delta V$, the velocity shift"
   ]
  },
  {
   "cell_type": "markdown",
   "id": "informational-variation",
   "metadata": {},
   "source": [
    "### First estimation of the velocity peaks\n",
    "The positions of the peak velocities are read from the LiDAR profile."
   ]
  },
  {
   "cell_type": "code",
   "execution_count": 14,
   "id": "exact-command",
   "metadata": {},
   "outputs": [],
   "source": [
    "def get_min_max_index(velocity_lidar):\n",
    "    \"\"\"\n",
    "    Return the indices of the peak velocities\n",
    "    \"\"\"\n",
    "    return np.argmin(velocity_lidar), np.argmax(velocity_lidar)"
   ]
  },
  {
   "cell_type": "code",
   "execution_count": 15,
   "id": "possible-headset",
   "metadata": {},
   "outputs": [],
   "source": [
    "def get_min_max_radii(radial_distance, velocity_lidar):\n",
    "    \"\"\"\n",
    "    Return the distance from the vortex core (r=0) for the peak velocities\n",
    "    \"\"\"\n",
    "    idx_min, idx_max = get_min_max_index(velocity_lidar)\n",
    "    return distance_from_core[idx_min], radial_distance[idx_max]"
   ]
  },
  {
   "cell_type": "code",
   "execution_count": 16,
   "id": "italian-feeling",
   "metadata": {},
   "outputs": [],
   "source": [
    "def get_min_max_velocity(velocity_lidar):\n",
    "    \"\"\"\n",
    "    Return the values of the peak velocities\n",
    "    \"\"\"\n",
    "    return np.min(velocity_lidar), np.max(velocity_lidar)"
   ]
  },
  {
   "cell_type": "markdown",
   "id": "sitting-potter",
   "metadata": {},
   "source": [
    "### Estimation of the mean tangential velocities\n",
    "The mean tangential velocity is the mean of the absolute velocity.\n",
    "\n",
    "Positive and negative mean tangential velocities outside the vortex core are calculated separately."
   ]
  },
  {
   "cell_type": "code",
   "execution_count": 17,
   "id": "disabled-cleaners",
   "metadata": {},
   "outputs": [],
   "source": [
    "def get_abs_mean_velocity(velocity_lidar):\n",
    "    \"\"\"\n",
    "    Return the average of absolute tangential velocities of the vortex profile\n",
    "    \"\"\"\n",
    "    return np.mean(np.abs(velocity_lidar))"
   ]
  },
  {
   "cell_type": "code",
   "execution_count": 18,
   "id": "sharing-topic",
   "metadata": {
    "scrolled": true
   },
   "outputs": [],
   "source": [
    "def get_neg_pos_mean_velocities(velocity_lidar):\n",
    "    \"\"\"\n",
    "    Return the average of tangential velocities of the negative and positive vortex sides separately\n",
    "    \"\"\"\n",
    "    idx_min, idx_max = get_min_max_index(velocity_lidar)\n",
    "    return np.mean(velocity_lidar[:idx_min+1]), np.mean(velocity_lidar[idx_max:])"
   ]
  },
  {
   "cell_type": "markdown",
   "id": "humanitarian-understanding",
   "metadata": {},
   "source": [
    "### Dismissing of outliers\n",
    "#### Noise - Cuf-off\n",
    "First, points far from the core are not to be separated from the noise. A cut-off is introduced under the following assumptions:\n",
    "- Only a small of number of points is measured around the core,\n",
    "- Their tangential velocities are bigger than the noise,\n",
    "- In that case, the mean tangential velocity is slighty bigger than the noise,\n",
    "- Every point under the mean velocity may therefore be considered as an outlier and has to be dismissed,\n",
    "- To avoid an early cut-off due to a single outlier, there must be at least 3 points in a row under the mean velocity to locate the cut-off position.\n",
    "- Points at the limit of the window are considered to be noise.\n",
    "\n",
    "Second, points inside vortex core with tangential velocity smaller than the mean velocity are also dismissed as noise.\n",
    "\n",
    "This method is used for positive and negative velocities separately."
   ]
  },
  {
   "cell_type": "code",
   "execution_count": 19,
   "id": "billion-elephant",
   "metadata": {},
   "outputs": [],
   "source": [
    "def selection_of_points(velocity_lidar):\n",
    "    \"\"\"\n",
    "    Return the selected points for the data fitting\n",
    "    \"\"\"\n",
    "    v_neg_mean, v_pos_mean = get_neg_pos_mean_velocities(velocity_lidar)\n",
    "    idx_min, idx_max = get_min_max_index(velocity_lidar)\n",
    "    \n",
    "    selected_neg_points = np.append(np.zeros(1), [(velocity_lidar[i-1] <= v_neg_mean).astype(int) +\n",
    "                                                  (velocity_lidar[i] <= v_neg_mean).astype(int) + \n",
    "                                                  (velocity_lidar[i+1] <= v_neg_mean).astype(int) \n",
    "                                                  for i in range(1, len(velocity_lidar)-1)])\n",
    "    selected_neg_points = np.append(selected_neg_points, np.zeros(1))\n",
    "    \n",
    "    selected_pos_points = np.append(np.zeros(1), [(velocity_lidar[i-1] >= v_pos_mean).astype(int) +\n",
    "                                                  (velocity_lidar[i] >= v_pos_mean).astype(int) + \n",
    "                                                  (velocity_lidar[i+1] >= v_pos_mean).astype(int) \n",
    "                                                  for i in range(1, len(velocity_lidar)-1)])\n",
    "    selected_pos_points = np.append(selected_pos_points, np.zeros(1))\n",
    "    \n",
    "    # Selected points in the vortex core\n",
    "    selected_core_points = np.concatenate((np.ones(idx_min), \n",
    "                                           np.abs(velocity_lidar[idx_min:idx_max]) >= \n",
    "                                               0.5 * (v_pos_mean - v_neg_mean), \n",
    "                                           np.ones(velocity_lidar.shape - idx_max)))\n",
    "    \n",
    "    return (selected_neg_points + selected_pos_points) * selected_core_points\n",
    "    # return 1"
   ]
  },
  {
   "cell_type": "code",
   "execution_count": 20,
   "id": "banned-reasoning",
   "metadata": {},
   "outputs": [],
   "source": [
    "def dismiss_values_from_profile(vector, selected_points, velocity_lidar):\n",
    "    \"\"\"\n",
    "    Return a reduced vector containing only data points used for the fitting\n",
    "    \"\"\"\n",
    "    idx_min, idx_max = get_min_max_index(velocity_lidar)\n",
    "    idx_core = np.where(selected_points[idx_min:idx_max] == 0)\n",
    "    \n",
    "    idx_start = np.where(selected_points[:idx_min] == 0)[0][-1]\n",
    "    idx_end = np.where(selected_points[idx_max:] == 0)[0][0] + idx_max\n",
    "\n",
    "    if idx_core[0].size == 0:\n",
    "        return vector[idx_start:idx_end+1]\n",
    "    \n",
    "    idx_core_min = idx_core[0][0] + idx_min\n",
    "    idx_core_max = idx_core[0][-1] + idx_min\n",
    "    \n",
    "    return np.concatenate((vector[idx_start:idx_core_min], vector[idx_core_max+1:idx_end+1]))"
   ]
  },
  {
   "cell_type": "code",
   "execution_count": 21,
   "id": "hundred-native",
   "metadata": {},
   "outputs": [
    {
     "name": "stdout",
     "output_type": "stream",
     "text": [
      "[0. 0. 0. 0. 0. 0. 0. 0. 0. 0. 0. 0. 0. 0. 0. 0. 0. 0. 0. 0. 0. 0. 0. 0.\n",
      " 0. 0. 0. 0. 0. 0. 0. 0. 0. 0. 0. 0. 0. 0. 0. 0. 0. 1. 1. 2. 1. 2. 2. 3.\n",
      " 2. 2. 2. 3. 3. 3. 3. 3. 3. 3. 3. 3. 3. 3. 3. 3. 3. 3. 3. 2. 0. 2. 3. 3.\n",
      " 3. 3. 3. 3. 3. 3. 3. 3. 3. 3. 3. 3. 3. 3. 3. 2. 2. 1. 1. 1. 1. 1. 1. 1.\n",
      " 1. 0. 0. 0. 0. 0. 0. 0. 0. 0. 0. 0. 0. 0. 0. 0. 0. 0. 0. 0. 0. 0. 0. 0.\n",
      " 0. 0. 0. 0. 0. 0. 0. 0. 0. 0. 0. 0. 0. 0. 1. 1. 1. 0.]\n"
     ]
    }
   ],
   "source": [
    "selected_points = selection_of_points(velocity_lidar)\n",
    "print(selected_points)\n",
    "\n",
    "\n",
    "distance_for_fitting = dismiss_values_from_profile(radial_distance, selected_points, velocity_lidar)\n",
    "velocity_for_fitting = dismiss_values_from_profile(velocity_lidar, selected_points, velocity_lidar)"
   ]
  },
  {
   "cell_type": "code",
   "execution_count": 22,
   "id": "genetic-despite",
   "metadata": {},
   "outputs": [],
   "source": [
    "v_neg_mean, v_pos_mean = get_neg_pos_mean_velocities(velocity_lidar)"
   ]
  },
  {
   "cell_type": "code",
   "execution_count": 23,
   "id": "conditional-conjunction",
   "metadata": {},
   "outputs": [
    {
     "data": {
      "image/png": "[encoded data removed]",
      "text/plain": [
       "<Figure size 720x576 with 1 Axes>"
      ]
     },
     "metadata": {
      "needs_background": "light"
     },
     "output_type": "display_data"
    }
   ],
   "source": [
    "%matplotlib inline\n",
    "\n",
    "y_max = int(max(velocity_lidar) / 2) * 2 + 4\n",
    "x_max = 50\n",
    "\n",
    "fig, ax = plt.subplots(figsize=(10, 8))\n",
    "\n",
    "xticks = np.arange(-x_max, x_max, 5)\n",
    "yticks = np.arange(-y_max, y_max, 2)\n",
    "\n",
    "plt.axhline(0, color='black', lw=0.5)\n",
    "plt.axvline(0, color='black', lw=0.5)\n",
    "plt.scatter([0],[0], color='red', label='vortex core')\n",
    "\n",
    "ax.scatter(radial_distance, velocity_lidar, color='blue', label='LiDAR envelope')\n",
    "ax.scatter(distance_for_fitting, velocity_for_fitting, marker='+', color='orange', \\\n",
    "           lw=2, label='selected points')\n",
    "ax.plot(radial_distance_model, velocity_model, color='green', label='model')\n",
    "\n",
    "plt.axhline(v_neg_mean, color='orange', lw=1, ls='-.', label='cut-off lines')\n",
    "plt.axhline(v_pos_mean, color='orange', lw=1, ls='-.')\n",
    "\n",
    "ax.set(xlabel='distance from core (m)', ylabel='velocity (m/s)', title='Vortex profile')\n",
    "ax.set_xticks(xticks)\n",
    "ax.set_yticks(yticks)\n",
    "\n",
    "plt.xlim(-x_max, x_max)\n",
    "plt.ylim(-y_max, y_max)\n",
    "\n",
    "plt.grid(b=True)\n",
    "\n",
    "fig.savefig(\"./images/single_lidar_envelope_with_selected_points.png\")\n",
    "plt.legend()\n",
    "plt.show()"
   ]
  },
  {
   "cell_type": "markdown",
   "id": "approved-subcommittee",
   "metadata": {},
   "source": [
    "### Definition of the profile function"
   ]
  },
  {
   "cell_type": "code",
   "execution_count": 24,
   "id": "equipped-heavy",
   "metadata": {},
   "outputs": [],
   "source": [
    "def modified_burnham_hallock(r, gamma, rc, delta_r, delta_V):\n",
    "    \"\"\"\n",
    "    gamma = circulation in m^2/s\n",
    "    rc = core_radius in m\n",
    "    r = radial distance in m\n",
    "    delta_r = radial shift in m\n",
    "    delta_V = tangential velocity shift in m/s\n",
    "    returns the tangential velocity using the modified Burnham-Hallock model\n",
    "    \"\"\"\n",
    "    return gamma / (2 * pi) * (r - delta_r) / ( (r - delta_r )** 2 + rc**2) + delta_V"
   ]
  },
  {
   "cell_type": "markdown",
   "id": "mental-reliance",
   "metadata": {},
   "source": [
    "### Fit the LiDAR profile with the built-in function curve_fit"
   ]
  },
  {
   "cell_type": "code",
   "execution_count": 25,
   "id": "parallel-school",
   "metadata": {},
   "outputs": [],
   "source": [
    "fitted_values, pcov = curve_fit(modified_burnham_hallock, \n",
    "                                distance_for_fitting, \n",
    "                                velocity_for_fitting, \n",
    "                                p0 = [100,1,0,0])"
   ]
  },
  {
   "cell_type": "markdown",
   "id": "entitled-sacramento",
   "metadata": {},
   "source": [
    "#### Comparison of results with initial data"
   ]
  },
  {
   "cell_type": "code",
   "execution_count": 26,
   "id": "humanitarian-exposure",
   "metadata": {},
   "outputs": [],
   "source": [
    "original_values = [total_circulation, core_radius, Delta_r, Delta_V]\n",
    "\n",
    "comparison_table = pd.DataFrame({'Original': original_values, 'Fit': fitted_values, \n",
    "                                 'Error': original_values - fitted_values,\n",
    "                                 'Rel. error': 100 * (original_values - fitted_values) / original_values},\n",
    "                                index=['Total circulation', 'Core radius', 'Delta_r', 'Delta_V'])"
   ]
  },
  {
   "cell_type": "code",
   "execution_count": 27,
   "id": "guilty-warrior",
   "metadata": {},
   "outputs": [
    {
     "data": {
      "text/html": [
       "<div>\n",
       "<style scoped>\n",
       "    .dataframe tbody tr th:only-of-type {\n",
       "        vertical-align: middle;\n",
       "    }\n",
       "\n",
       "    .dataframe tbody tr th {\n",
       "        vertical-align: top;\n",
       "    }\n",
       "\n",
       "    .dataframe thead th {\n",
       "        text-align: right;\n",
       "    }\n",
       "</style>\n",
       "<table border=\"1\" class=\"dataframe\">\n",
       "  <thead>\n",
       "    <tr style=\"text-align: right;\">\n",
       "      <th></th>\n",
       "      <th>Original</th>\n",
       "      <th>Fit</th>\n",
       "      <th>Error</th>\n",
       "      <th>Rel. error</th>\n",
       "    </tr>\n",
       "  </thead>\n",
       "  <tbody>\n",
       "    <tr>\n",
       "      <th>Total circulation</th>\n",
       "      <td>300.00</td>\n",
       "      <td>304.45</td>\n",
       "      <td>-4.45</td>\n",
       "      <td>-1.48</td>\n",
       "    </tr>\n",
       "    <tr>\n",
       "      <th>Core radius</th>\n",
       "      <td>4.00</td>\n",
       "      <td>4.17</td>\n",
       "      <td>-0.17</td>\n",
       "      <td>-4.31</td>\n",
       "    </tr>\n",
       "    <tr>\n",
       "      <th>Delta_r</th>\n",
       "      <td>0.01</td>\n",
       "      <td>-0.06</td>\n",
       "      <td>0.07</td>\n",
       "      <td>726.09</td>\n",
       "    </tr>\n",
       "    <tr>\n",
       "      <th>Delta_V</th>\n",
       "      <td>0.05</td>\n",
       "      <td>0.02</td>\n",
       "      <td>0.03</td>\n",
       "      <td>68.97</td>\n",
       "    </tr>\n",
       "  </tbody>\n",
       "</table>\n",
       "</div>"
      ],
      "text/plain": [
       "                   Original     Fit  Error  Rel. error\n",
       "Total circulation    300.00  304.45  -4.45       -1.48\n",
       "Core radius            4.00    4.17  -0.17       -4.31\n",
       "Delta_r                0.01   -0.06   0.07      726.09\n",
       "Delta_V                0.05    0.02   0.03       68.97"
      ]
     },
     "execution_count": 27,
     "metadata": {},
     "output_type": "execute_result"
    }
   ],
   "source": [
    "comparison_table.round(2)"
   ]
  },
  {
   "cell_type": "markdown",
   "id": "consistent-rebound",
   "metadata": {},
   "source": [
    "Based on these original values, core radius and total circulation are well estimated."
   ]
  },
  {
   "cell_type": "code",
   "execution_count": 28,
   "id": "worse-possible",
   "metadata": {},
   "outputs": [],
   "source": [
    "def root_mean_square_error(velocity_for_fitting, velocity_from_fitting):\n",
    "    \"\"\"\n",
    "    Return the root-mean-square error of the fit\n",
    "    \"\"\"\n",
    "    return sqrt(mean_squared_error(velocity_for_fitting, velocity_from_fitting))"
   ]
  },
  {
   "cell_type": "code",
   "execution_count": 29,
   "id": "premier-commonwealth",
   "metadata": {},
   "outputs": [
    {
     "name": "stdout",
     "output_type": "stream",
     "text": [
      "The root-mean-square error is 0.279 m/s\n"
     ]
    }
   ],
   "source": [
    "velocity_from_fitting = modified_burnham_hallock(distance_for_fitting, \n",
    "                                                 total_circulation, \n",
    "                                                 core_radius, \n",
    "                                                 Delta_r, Delta_V)\n",
    "\n",
    "RMSE = root_mean_square_error(velocity_for_fitting, velocity_from_fitting)\n",
    "\n",
    "print(f\"The root-mean-square error is {RMSE:0.3f} m/s\")"
   ]
  },
  {
   "cell_type": "code",
   "execution_count": 30,
   "id": "innovative-paste",
   "metadata": {},
   "outputs": [],
   "source": [
    "velocity_from_fitting = modified_burnham_hallock(radial_distance_model, \n",
    "                                                 total_circulation, \n",
    "                                                 core_radius, \n",
    "                                                 Delta_r, Delta_V)"
   ]
  },
  {
   "cell_type": "code",
   "execution_count": 31,
   "id": "front-front",
   "metadata": {},
   "outputs": [
    {
     "data": {
      "image/png": "[encoded data removed]",
      "text/plain": [
       "<Figure size 720x576 with 1 Axes>"
      ]
     },
     "metadata": {
      "needs_background": "light"
     },
     "output_type": "display_data"
    }
   ],
   "source": [
    "%matplotlib inline\n",
    "\n",
    "y_max = int(max(velocity_lidar) / 2) * 2 + 4\n",
    "x_max = 50\n",
    "\n",
    "fig, ax = plt.subplots(figsize=(10, 8))\n",
    "\n",
    "xticks = np.arange(-x_max, x_max, 5)\n",
    "yticks = np.arange(-y_max, y_max, 2)\n",
    "\n",
    "plt.axhline(0, color='black', lw=0.5)\n",
    "plt.axvline(0, color='black', lw=0.5)\n",
    "plt.scatter([0],[0], color='red', label='vortex core')\n",
    "\n",
    "ax.scatter(radial_distance, velocity_lidar, color='blue', label='LiDAR envelope')\n",
    "ax.scatter(distance_for_fitting, velocity_for_fitting, marker='+', color='orange', \\\n",
    "           lw=2, label='selected points')\n",
    "ax.plot(radial_distance_model, velocity_model, color='green', label='model')\n",
    "ax.plot(radial_distance_model, velocity_from_fitting, color='green', ls='--', label='fit')\n",
    "\n",
    "plt.axhline(v_neg_mean, color='orange', lw=1, ls='-.', label='cut-off lines')\n",
    "plt.axhline(v_pos_mean, color='orange', lw=1, ls='-.')\n",
    "\n",
    "ax.set(xlabel='distance from core (m)', ylabel='velocity (m/s)', title='Vortex profile')\n",
    "ax.set_xticks(xticks)\n",
    "ax.set_yticks(yticks)\n",
    "\n",
    "plt.xlim(-x_max, x_max)\n",
    "plt.ylim(-y_max, y_max)\n",
    "\n",
    "plt.grid(b=True)\n",
    "\n",
    "fig.savefig(\"./images/single_lidar_envelope_with_fit.png\")\n",
    "plt.legend()\n",
    "plt.show()"
   ]
  },
  {
   "cell_type": "markdown",
   "id": "aboriginal-cross",
   "metadata": {},
   "source": [
    "## Circulation between 5 to 15m\n",
    "The circulation of a single vortex as a function of radial distance from the vortex center can be defined in terms of the tangential velocity"
   ]
  },
  {
   "cell_type": "code",
   "execution_count": null,
   "id": "christian-detector",
   "metadata": {},
   "outputs": [],
   "source": []
  }
 ],
 "metadata": {
  "kernelspec": {
   "display_name": "Python 3",
   "language": "python",
   "name": "python3"
  },
  "language_info": {
   "codemirror_mode": {
    "name": "ipython",
    "version": 3
   },
   "file_extension": ".py",
   "mimetype": "text/x-python",
   "name": "python",
   "nbconvert_exporter": "python",
   "pygments_lexer": "ipython3",
   "version": "3.8.8"
  }
 },
 "nbformat": 4,
 "nbformat_minor": 5
}
