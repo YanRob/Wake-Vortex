{
 "cells": [
  {
   "cell_type": "markdown",
   "id": "quarterly-burke",
   "metadata": {},
   "source": [
    "# Vortex Profile"
   ]
  },
  {
   "cell_type": "markdown",
   "id": "corporate-locking",
   "metadata": {},
   "source": [
    "This notebook shows\n",
    "- how to fit a vortex profile obtained from LiDAR measurement\n",
    "- how to calculate the core radius (size) and the total circulation (strength) of the vortex"
   ]
  },
  {
   "cell_type": "markdown",
   "id": "aquatic-roulette",
   "metadata": {},
   "source": [
    "### Import libraries"
   ]
  },
  {
   "cell_type": "code",
   "execution_count": 1,
   "id": "bearing-mongolia",
   "metadata": {},
   "outputs": [],
   "source": [
    "import random\n",
    "from math import pi, sqrt\n",
    "\n",
    "import matplotlib\n",
    "import matplotlib.pyplot as plt\n",
    "import numpy as np\n",
    "import pandas as pd\n",
    "\n",
    "from scipy.optimize import curve_fit\n",
    "import scipy.integrate as integrate\n",
    "\n",
    "from sklearn.metrics import mean_squared_error"
   ]
  },
  {
   "cell_type": "markdown",
   "id": "martial-requirement",
   "metadata": {},
   "source": [
    "## Vortex models"
   ]
  },
  {
   "cell_type": "markdown",
   "id": "interested-milwaukee",
   "metadata": {},
   "source": [
    "There are several ways to model a 2D vortex. "
   ]
  },
  {
   "cell_type": "markdown",
   "id": "seasonal-belly",
   "metadata": {},
   "source": [
    "### Lamb-Oseen model"
   ]
  },
  {
   "cell_type": "markdown",
   "id": "failing-glory",
   "metadata": {},
   "source": [
    "https://en.wikipedia.org/wiki/Lamb%E2%80%93Oseen_vortex"
   ]
  },
  {
   "cell_type": "markdown",
   "id": "simplified-parallel",
   "metadata": {},
   "source": [
    "Here, we are interested in the form of the Lamb-Oseen model for wake vortices:\n",
    "\n",
    "$V(r) = \\frac{\\Gamma} {2 {\\pi}} (1 - exp(-1.256\\frac{r^2}{r_c^2}))$\n",
    "\n",
    "where:\n",
    "- ${\\Gamma}$ is the total circulation\n",
    "- ${r}$ is the distance from the vortex center or radial distance\n",
    "- ${r_c}$ is the mean vortex core radius, i.e. the half of distance between velocity peaks\n",
    "- ${V(r)}$ is the tangential velocity a r"
   ]
  },
  {
   "cell_type": "code",
   "execution_count": 2,
   "id": "becoming-modeling",
   "metadata": {},
   "outputs": [],
   "source": [
    "def lamb_oseen(gamma, rc, r):\n",
    "    \"\"\"\n",
    "    gamma: circulation in m^2/s\n",
    "    rc: core_radius in m\n",
    "    r: radial distance in m\n",
    "    ---\n",
    "    returns the tangential velocity\n",
    "    \"\"\"\n",
    "    # Small manipulation to avoid the case r = 0 below \n",
    "    r_new = (r == 0).astype(int) / 1000 + r\n",
    "    return gamma / (2 * pi * r_new) * (1 - np.exp( - 1.256 * r ** 2 / rc ** 2))"
   ]
  },
  {
   "cell_type": "markdown",
   "id": "promotional-access",
   "metadata": {},
   "source": [
    "### Rankine model"
   ]
  },
  {
   "cell_type": "markdown",
   "id": "muslim-german",
   "metadata": {},
   "source": [
    "https://en.wikipedia.org/wiki/Rankine_vortex"
   ]
  },
  {
   "cell_type": "markdown",
   "id": "empirical-today",
   "metadata": {},
   "source": [
    "The drawback the rankine model is its non-linearity. Therefore it won't be used."
   ]
  },
  {
   "cell_type": "markdown",
   "id": "lesbian-carnival",
   "metadata": {},
   "source": [
    "$V(r) = \\frac{\\Gamma r}{2 {\\pi} r_c^2} $ for $r \\le R $\n",
    "\n",
    "$V(r) = \\frac{\\Gamma}{2 {\\pi} r} $ if $ for > R $\n",
    "\n",
    "\n",
    "where:\n",
    "- ${\\Gamma}$ is the total circulation\n",
    "- ${r}$ is the distance from the vortex center or radial distance\n",
    "- ${r_c}$ is the mean vortex core size, i.e. the half of distance between velocity peaks\n",
    "- ${V(r)}$ is the tangential velocity a r"
   ]
  },
  {
   "cell_type": "code",
   "execution_count": 3,
   "id": "appointed-resident",
   "metadata": {},
   "outputs": [],
   "source": [
    "def rankine(gamma, rc, r):\n",
    "    \"\"\"\n",
    "    gamma: circulation in m^2/s\n",
    "    rc: core_radius in m\n",
    "    r: radial distance in m\n",
    "    ---\n",
    "    returns the tangential velocity\n",
    "    \"\"\"\n",
    "    internal_V = (abs(r) <= rc).astype(int) * gamma * r /( 2 * pi * rc**2)\n",
    "    # Small manipulation to avoid the case r = 0 below \n",
    "    r_new = (r == 0).astype(int) / 1000 + r\n",
    "    external_V = (abs(r) > rc).astype(int) * gamma / (2 * pi * r_new)\n",
    "    return internal_V + external_V"
   ]
  },
  {
   "cell_type": "markdown",
   "id": "pleasant-component",
   "metadata": {},
   "source": [
    "### Burnham-Hallock model"
   ]
  },
  {
   "cell_type": "markdown",
   "id": "logical-international",
   "metadata": {},
   "source": [
    "The Burnham-Hallock model is widely used to model aircraft wake vortices.\n",
    "\n",
    "$V(r)=\\frac{\\Gamma}{2{\\pi}r}\\frac{r^2}{r^2+r_c^2}$\n",
    "\n",
    "where:\n",
    "- ${\\Gamma}$ is the total circulation\n",
    "- ${r}$ is the distance from the vortex center or radial distance\n",
    "- ${r_c}$ is the mean vortex core radius, i.e. the half of distance between velocity peaks\n",
    "- ${V(r)}$ is the tangential velocity a r"
   ]
  },
  {
   "cell_type": "code",
   "execution_count": 4,
   "id": "second-america",
   "metadata": {},
   "outputs": [],
   "source": [
    "def burnham_hallock(gamma, rc, r):\n",
    "    \"\"\"\n",
    "    gamma: circulation in m^2/s\n",
    "    rc: core_radius in m\n",
    "    r: radial distance in m\n",
    "    ---\n",
    "    returns the tangential velocity\n",
    "    \"\"\"\n",
    "    return gamma / (2 * pi) * r / (r ** 2 + rc ** 2)"
   ]
  },
  {
   "cell_type": "markdown",
   "id": "devoted-environment",
   "metadata": {},
   "source": [
    "### Comparison of the models"
   ]
  },
  {
   "cell_type": "markdown",
   "id": "favorite-going",
   "metadata": {},
   "source": [
    "Let's define a vortex with 300m^2/s total circulation and a core radius of 4m between -20m and 20m and plot the vortex profile"
   ]
  },
  {
   "cell_type": "code",
   "execution_count": 5,
   "id": "american-bangkok",
   "metadata": {},
   "outputs": [],
   "source": [
    "r_max = 20\n",
    "r_min = -r_max\n",
    "r_step = 0.5\n",
    "\n",
    "total_circulation = 300\n",
    "core_radius = 4\n",
    "\n",
    "radial_distance = np.arange(r_min, r_max+r_step, r_step)\n",
    "\n",
    "velocity_lo = lamb_oseen(total_circulation, core_radius, radial_distance)\n",
    "velocity_ra = rankine(total_circulation, core_radius, radial_distance)\n",
    "velocity_bh = burnham_hallock(total_circulation, core_radius, radial_distance)"
   ]
  },
  {
   "cell_type": "code",
   "execution_count": 6,
   "id": "australian-shift",
   "metadata": {},
   "outputs": [
    {
     "data": {
      "image/png": "[encoded data removed]",
      "text/plain": [
       "<Figure size 720x576 with 1 Axes>"
      ]
     },
     "metadata": {
      "needs_background": "light"
     },
     "output_type": "display_data"
    }
   ],
   "source": [
    "%matplotlib inline\n",
    "\n",
    "y_max = int(max(np.max(velocity_lo), np.max(velocity_ra), np.max(velocity_bh)) / 2) * 2 + 4\n",
    "x_max = r_max\n",
    "\n",
    "fig, ax = plt.subplots(figsize=(10, 8))\n",
    "\n",
    "xticks = np.arange(-x_max, x_max, 2)\n",
    "yticks = np.arange(-y_max, y_max, 2)\n",
    "\n",
    "plt.axhline(0, color='black', lw=0.5)\n",
    "plt.axvline(0, color='black', lw=0.5)\n",
    "plt.scatter([0],[0], color='red', label='vortex center')\n",
    "\n",
    "ax.plot(radial_distance, velocity_lo, color='blue', label='Lamb-Oseen')\n",
    "ax.plot(radial_distance, velocity_ra, color='green', label='Rankine')\n",
    "ax.plot(radial_distance, velocity_bh, color='magenta', label='Burnham-Hallock')\n",
    "\n",
    "ax.set(xlabel='distance from vortex center (m)', ylabel='velocity (m/s)', title='Vortex profile')\n",
    "ax.set_xticks(xticks)\n",
    "ax.set_yticks(yticks)\n",
    "\n",
    "plt.xlim(-x_max, x_max)\n",
    "plt.ylim(-y_max, y_max)\n",
    "\n",
    "plt.grid(b=True)\n",
    "\n",
    "fig.savefig(\"./images/comparison_of_vortex_profiles.png\")\n",
    "plt.legend()\n",
    "plt.show()"
   ]
  },
  {
   "cell_type": "markdown",
   "id": "serial-cancer",
   "metadata": {},
   "source": [
    "## Reconstruction of a LiDAR envelope"
   ]
  },
  {
   "cell_type": "markdown",
   "id": "biblical-sleeve",
   "metadata": {},
   "source": [
    "The analysis of aircraft wake vortices is made using data provided by post-processing of LiDAR measurements. These data consist of envelopes of the measured tangential velocity as a function of the radial distance (distance from the position of the vortex center).\n",
    "\n",
    "To make the data more realistic, following additional parameters must be added to the model equations:\n",
    "- random background noise\n",
    "- radial shift $\\Delta r_c$\n",
    "- tangential velocity shift $\\Delta V$\n",
    "- random error around the calculted profile $\\delta \\epsilon_V$\n",
    "\n",
    "The measurements are discrete, that means, that we obtained points on the velocity profile at a regular interval, the so-called LiDAR resolution."
   ]
  },
  {
   "cell_type": "code",
   "execution_count": 7,
   "id": "defensive-transition",
   "metadata": {},
   "outputs": [],
   "source": [
    "def add_noise_to_envelope(velocity):\n",
    "    \"\"\"\n",
    "    velocity: velocity profile (envelope) as a numpy array\n",
    "    ---\n",
    "    Add noise to the envelope.\n",
    "    Noise is assumed to be 2 m/s\n",
    "    The envelope is crossing the axis y = 0 (tangential velocity = 0) only in the core\n",
    "    \"\"\"\n",
    "    noise = np.random.normal(1, 0.25, velocity.shape) * np.sign(velocity)\n",
    "    return np.maximum(np.abs(velocity), noise) * np.sign(velocity)"
   ]
  },
  {
   "cell_type": "code",
   "execution_count": 8,
   "id": "crude-stone",
   "metadata": {},
   "outputs": [],
   "source": [
    "def add_shift():\n",
    "    \"\"\"\n",
    "    Returns two random numbers for radial and velocity shift\n",
    "    \"\"\"\n",
    "    return random.gauss(0, 0.25), random.gauss(0, 0.25)"
   ]
  },
  {
   "cell_type": "code",
   "execution_count": 9,
   "id": "quick-savage",
   "metadata": {},
   "outputs": [],
   "source": [
    "def add_random_error(velocity):\n",
    "    \"\"\"\n",
    "    velocity: velocity profile (envelope) as a numpy array\n",
    "    ---\n",
    "    Add random error to the velocity profile\n",
    "    An error of +/- 0.5 m/s is added to the profile\n",
    "    \"\"\"\n",
    "    return velocity + np.random.normal(0, 0.25, velocity.shape)"
   ]
  },
  {
   "cell_type": "code",
   "execution_count": 10,
   "id": "asian-creation",
   "metadata": {},
   "outputs": [],
   "source": [
    "def generate_lidar_envelope(Gamma, rc, r, model=burnham_hallock):\n",
    "    \"\"\"\n",
    "    gamma: circulation in m^2/s\n",
    "    rc: core_radius in m\n",
    "    r: radial distance in m\n",
    "    model: vortex model among burnham-hallock, lamb_oseen and rankine\n",
    "    ---\n",
    "    Return the full vortex profile including noise, shifts and error\n",
    "    \"\"\"\n",
    "    Delta_r, Delta_V = add_shift()\n",
    "    # radial shift\n",
    "    r -= Delta_r\n",
    "    # Velocity profile\n",
    "    velocity_profile = model(Gamma, rc, r)\n",
    "    # add the noise\n",
    "    velocity_profile = add_noise_to_envelope(velocity_profile)\n",
    "    # add the random_error\n",
    "    velocity_profile = add_random_error(velocity_profile)\n",
    "    # Tangential velocity shift\n",
    "    return velocity_profile + Delta_V, Delta_r, Delta_V"
   ]
  },
  {
   "cell_type": "code",
   "execution_count": 11,
   "id": "spanish-provincial",
   "metadata": {},
   "outputs": [],
   "source": [
    "def set_lidar_resolution():\n",
    "    \"\"\"\n",
    "    Return the lidar resolution, i.e. the average radial distance between two data points\n",
    "    \"\"\"\n",
    "    return random.uniform(1, 3)"
   ]
  },
  {
   "cell_type": "markdown",
   "id": "neither-assist",
   "metadata": {},
   "source": [
    "Let's define a vortex with 300m^2/s total circulation and a core radius of 3m between -100m and 100m and plot the vortex profile with the LiDAR envelope.\n",
    "\n",
    "For this exercise, we use a Burnham-Hallock profile."
   ]
  },
  {
   "cell_type": "code",
   "execution_count": 12,
   "id": "alleged-perth",
   "metadata": {},
   "outputs": [],
   "source": [
    "r_max = 100\n",
    "r_min = -r_max\n",
    "r_step = set_lidar_resolution()\n",
    "\n",
    "total_circulation = 300\n",
    "core_radius = 4\n",
    "\n",
    "radial_distance = np.arange(r_min, r_max+r_step, r_step)\n",
    "radial_distance_model = np.arange(r_min, r_max+1, 0.5)\n",
    "\n",
    "velocity_lidar, Delta_r, Delta_V = generate_lidar_envelope(total_circulation, core_radius, radial_distance)\n",
    "velocity_model = burnham_hallock(total_circulation, core_radius, radial_distance_model)"
   ]
  },
  {
   "cell_type": "code",
   "execution_count": 13,
   "id": "earlier-teddy",
   "metadata": {},
   "outputs": [
    {
     "data": {
      "image/png": "[encoded data removed]",
      "text/plain": [
       "<Figure size 720x576 with 1 Axes>"
      ]
     },
     "metadata": {
      "needs_background": "light"
     },
     "output_type": "display_data"
    }
   ],
   "source": [
    "%matplotlib inline\n",
    "\n",
    "y_max = int(max(velocity_lidar) / 2) * 2 + 4\n",
    "x_max = 50\n",
    "\n",
    "fig, ax = plt.subplots(figsize=(10, 8))\n",
    "\n",
    "xticks = np.arange(-x_max, x_max, 5)\n",
    "yticks = np.arange(-y_max, y_max, 2)\n",
    "\n",
    "plt.axhline(0, color='black', lw=0.5)\n",
    "plt.axvline(0, color='black', lw=0.5)\n",
    "plt.scatter([0],[0], color='red', label='vortex center')\n",
    "\n",
    "ax.scatter(radial_distance, velocity_lidar, color='blue', label='LiDAR envelope')\n",
    "ax.plot(radial_distance_model, velocity_model, color='green', label='model')\n",
    "\n",
    "ax.set(xlabel='distance from vortex center (m)', ylabel='velocity (m/s)', title='Vortex profile')\n",
    "ax.set_xticks(xticks)\n",
    "ax.set_yticks(yticks)\n",
    "\n",
    "plt.xlim(-x_max, x_max)\n",
    "plt.ylim(-y_max, y_max)\n",
    "\n",
    "plt.grid(b=True)\n",
    "\n",
    "fig.savefig(\"./images/single_lidar_envelope.png\")\n",
    "plt.legend()\n",
    "plt.show()"
   ]
  },
  {
   "cell_type": "markdown",
   "id": "confident-embassy",
   "metadata": {},
   "source": [
    "## Fitting of the LiDAR profile"
   ]
  },
  {
   "cell_type": "markdown",
   "id": "banned-condition",
   "metadata": {},
   "source": [
    "The current step consists in doing the other way: from the reconstructed LiDAR profile, we will fit the data to estimate the original vortex characteristics\n",
    "\n",
    "The adapted Burnham-Hallock model fitting the reconstructed data or the vortex profile data obtained from the LiDAR processing looks like:\n",
    "\n",
    "$V(r)=\\frac{\\Gamma}{2{\\pi}(r-\\Delta r_c)}\\frac{(r-\\Delta r_c)^2}{(r-\\Delta r_c)^2+r_c^2} + \\Delta V$ \n",
    "\n",
    "Therefore, there are 4 unknown for this equation:\n",
    "- $\\Gamma$, the total circulation of the vortex\n",
    "- $r_c$, the core radius of the vortex\n",
    "- $\\Delta r_c$, the radial shift\n",
    "- $\\Delta V$, the velocity shift"
   ]
  },
  {
   "cell_type": "markdown",
   "id": "ideal-scottish",
   "metadata": {},
   "source": [
    "### Definition of the profile function as the modified Burnham-Hallock model"
   ]
  },
  {
   "cell_type": "code",
   "execution_count": 14,
   "id": "applicable-photography",
   "metadata": {},
   "outputs": [],
   "source": [
    "def modified_burnham_hallock(r, gamma, rc, delta_r, delta_V):\n",
    "    \"\"\"\n",
    "    gamma: circulation in m^2/s\n",
    "    rc: core_radius in m\n",
    "    r: radial distance in m\n",
    "    delta_r: radial shift in m\n",
    "    delta_V: tangential velocity shift in m/s\n",
    "    ---\n",
    "    Returns the tangential velocity using the modified Burnham-Hallock model\n",
    "    \"\"\"\n",
    "    return gamma / (2 * pi) * (r - delta_r) / ( (r - delta_r )** 2 + rc**2) + delta_V"
   ]
  },
  {
   "cell_type": "markdown",
   "id": "decreased-assignment",
   "metadata": {},
   "source": [
    "### First estimation of the velocity peaks\n",
    "The positions of the peak velocities are read from the LiDAR profile."
   ]
  },
  {
   "cell_type": "code",
   "execution_count": 15,
   "id": "mediterranean-salem",
   "metadata": {},
   "outputs": [],
   "source": [
    "def get_min_max_index(velocity):\n",
    "    \"\"\"\n",
    "    velocity: velocity profile (envelope) as a numpy array\n",
    "    ---\n",
    "    Returns the indices of the peak velocities\n",
    "    \"\"\"\n",
    "    return np.argmin(velocity), np.argmax(velocity)"
   ]
  },
  {
   "cell_type": "code",
   "execution_count": 16,
   "id": "premier-croatia",
   "metadata": {},
   "outputs": [],
   "source": [
    "def get_min_max_radii(radial_distance, velocity):\n",
    "    \"\"\"\n",
    "    velocity: velocity profile (envelope) as a numpy array\n",
    "    ---\n",
    "    Return the distance from the vortex center (r=0) for the peak velocities\n",
    "    \"\"\"\n",
    "    idx_min, idx_max = get_min_max_index(velocity)\n",
    "    return radial_distance[idx_min], radial_distance[idx_max]"
   ]
  },
  {
   "cell_type": "code",
   "execution_count": 17,
   "id": "existing-housing",
   "metadata": {},
   "outputs": [],
   "source": [
    "def get_min_max_velocity(velocity):\n",
    "    \"\"\"\n",
    "    velocity: velocity profile (envelope) as a numpy array\n",
    "    ---\n",
    "    Return the values of the peak velocities\n",
    "    \"\"\"\n",
    "    return np.min(velocity), np.max(velocity)"
   ]
  },
  {
   "cell_type": "markdown",
   "id": "administrative-comment",
   "metadata": {},
   "source": [
    "### Estimation of the mean tangential velocities\n",
    "The mean tangential velocity is the mean of the absolute velocity.\n",
    "\n",
    "Positive and negative mean tangential velocities outside the vortex core are calculated separately."
   ]
  },
  {
   "cell_type": "code",
   "execution_count": 18,
   "id": "spectacular-heater",
   "metadata": {},
   "outputs": [],
   "source": [
    "def get_abs_mean_velocity(velocity):\n",
    "    \"\"\"\n",
    "    velocity: velocity profile (envelope) as a numpy array\n",
    "    ---\n",
    "    Returns the average of absolute tangential velocities of the vortex profile\n",
    "    \"\"\"\n",
    "    return np.mean(np.abs(velocity))"
   ]
  },
  {
   "cell_type": "code",
   "execution_count": 19,
   "id": "assumed-criticism",
   "metadata": {
    "scrolled": true
   },
   "outputs": [],
   "source": [
    "def get_neg_pos_mean_velocities(velocity):\n",
    "    \"\"\"\n",
    "    velocity: velocity profile (envelope) as a numpy array\n",
    "    ---\n",
    "    Return the average of tangential velocities of the negative and positive vortex sides separately\n",
    "    \"\"\"\n",
    "    idx_min, idx_max = get_min_max_index(velocity)\n",
    "    return np.mean(velocity[:idx_min+1]), np.mean(velocity[idx_max:])"
   ]
  },
  {
   "cell_type": "markdown",
   "id": "portable-estonia",
   "metadata": {},
   "source": [
    "### Dismissing of outliers\n",
    "#### Noise - Cuf-off\n",
    "First, points far from the core are not to be separated from the noise. A cut-off is introduced under the following assumptions:\n",
    "- Only a small of number of points is measured around the core,\n",
    "- Their tangential velocities are bigger than the noise,\n",
    "- In that case, the mean tangential velocity is slighty bigger than the envelope of the noise,\n",
    "- Every point under the mean velocity may therefore be considered as an outlier and has to be dismissed,\n",
    "- To avoid an early cut-off due to a single outlier, there must be at least 3 points in a row under the mean velocity to locate the cut-off position.\n",
    "- Points at the limit of the window are considered to be noise.\n",
    "\n",
    "Second, points inside the vortex core with tangential velocity smaller than the mean velocity are also dismissed as noise.\n",
    "\n",
    "This method is used for positive and negative velocities separately."
   ]
  },
  {
   "cell_type": "code",
   "execution_count": 20,
   "id": "removable-springfield",
   "metadata": {},
   "outputs": [],
   "source": [
    "def selection_of_points(velocity):\n",
    "    \"\"\"\n",
    "    velocity: velocity profile (envelope) as a numpy array\n",
    "    ---\n",
    "    Returns the selected points for the data fitting\n",
    "    \"\"\"\n",
    "    v_neg_mean, v_pos_mean = get_neg_pos_mean_velocities(velocity)\n",
    "    idx_min, idx_max = get_min_max_index(velocity)\n",
    "    \n",
    "    # negative envelope\n",
    "    selected_neg_points = np.append(np.zeros(1), [(velocity[i-1] <= v_neg_mean).astype(int) +\n",
    "                                                  (velocity[i] <= v_neg_mean).astype(int) + \n",
    "                                                  (velocity[i+1] <= v_neg_mean).astype(int) \n",
    "                                                  for i in range(1, len(velocity)-1)])\n",
    "    selected_neg_points = np.append(selected_neg_points, np.zeros(1))\n",
    "    \n",
    "    # positive envelope\n",
    "    selected_pos_points = np.append(np.zeros(1), [(velocity[i-1] >= v_pos_mean).astype(int) +\n",
    "                                                  (velocity[i] >= v_pos_mean).astype(int) + \n",
    "                                                  (velocity[i+1] >= v_pos_mean).astype(int) \n",
    "                                                  for i in range(1, len(velocity)-1)])\n",
    "    selected_pos_points = np.append(selected_pos_points, np.zeros(1))\n",
    "    \n",
    "    # Selected points in the vortex core\n",
    "    selected_core_points = np.concatenate((np.ones(idx_min), \n",
    "                                           np.abs(velocity[idx_min:idx_max]) >= \n",
    "                                               0.5 * (v_pos_mean - v_neg_mean), \n",
    "                                           np.ones(velocity.shape - idx_max)))\n",
    "    \n",
    "    return (selected_neg_points + selected_pos_points) * selected_core_points\n",
    "    # return 1"
   ]
  },
  {
   "cell_type": "code",
   "execution_count": 21,
   "id": "sonic-snake",
   "metadata": {},
   "outputs": [],
   "source": [
    "def dismiss_values_from_profile(vector, selected_points, velocity):\n",
    "    \"\"\"\n",
    "    vector: numpy array containing the velocity profile or radial distance\n",
    "    selected_points: selected points for the data fitting\n",
    "    velocity: velocity profile (envelope) as a numpy array\n",
    "    ---\n",
    "    Returns a reduced vector containing only data points used for the fitting\n",
    "    \"\"\"\n",
    "    idx_min, idx_max = get_min_max_index(velocity)\n",
    "    idx_core = np.where(selected_points[idx_min:idx_max] == 0)\n",
    "    \n",
    "    idx_start = np.where(selected_points[:idx_min] == 0)[0][-1]\n",
    "    idx_end = np.where(selected_points[idx_max:] == 0)[0][0] + idx_max\n",
    "\n",
    "    if idx_core[0].size == 0:\n",
    "        return vector[idx_start:idx_end+1]\n",
    "    \n",
    "    idx_core_min = idx_core[0][0] + idx_min\n",
    "    idx_core_max = idx_core[0][-1] + idx_min\n",
    "    \n",
    "    return np.concatenate((vector[idx_start:idx_core_min], vector[idx_core_max+1:idx_end+1]))"
   ]
  },
  {
   "cell_type": "code",
   "execution_count": 22,
   "id": "western-boulder",
   "metadata": {},
   "outputs": [],
   "source": [
    "selected_points = selection_of_points(velocity_lidar)\n",
    "distance_for_fitting = dismiss_values_from_profile(radial_distance, selected_points, velocity_lidar)\n",
    "velocity_for_fitting = dismiss_values_from_profile(velocity_lidar, selected_points, velocity_lidar)"
   ]
  },
  {
   "cell_type": "code",
   "execution_count": 23,
   "id": "animated-sleeping",
   "metadata": {},
   "outputs": [],
   "source": [
    "v_neg_mean, v_pos_mean = get_neg_pos_mean_velocities(velocity_lidar)"
   ]
  },
  {
   "cell_type": "code",
   "execution_count": 24,
   "id": "single-underground",
   "metadata": {},
   "outputs": [
    {
     "data": {
      "image/png": "[encoded data removed]",
      "text/plain": [
       "<Figure size 720x576 with 1 Axes>"
      ]
     },
     "metadata": {
      "needs_background": "light"
     },
     "output_type": "display_data"
    }
   ],
   "source": [
    "%matplotlib inline\n",
    "\n",
    "y_max = int(max(velocity_lidar) / 2) * 2 + 4\n",
    "x_max = 50\n",
    "\n",
    "fig, ax = plt.subplots(figsize=(10, 8))\n",
    "\n",
    "xticks = np.arange(-x_max, x_max, 5)\n",
    "yticks = np.arange(-y_max, y_max, 2)\n",
    "\n",
    "plt.axhline(0, color='black', lw=0.5)\n",
    "plt.axvline(0, color='black', lw=0.5)\n",
    "plt.scatter([0],[0], color='red', label='vortex center')\n",
    "\n",
    "ax.scatter(radial_distance, velocity_lidar, color='blue', label='LiDAR envelope')\n",
    "ax.scatter(distance_for_fitting, velocity_for_fitting, marker='+', color='orange', \\\n",
    "           lw=2, label='selected points')\n",
    "ax.plot(radial_distance_model, velocity_model, color='green', label='model')\n",
    "\n",
    "plt.axhline(v_neg_mean, color='orange', lw=1, ls='-.', label='cut-off lines')\n",
    "plt.axhline(v_pos_mean, color='orange', lw=1, ls='-.')\n",
    "\n",
    "ax.set(xlabel='distance from vortex center (m)', ylabel='velocity (m/s)', title='Vortex profile')\n",
    "ax.set_xticks(xticks)\n",
    "ax.set_yticks(yticks)\n",
    "\n",
    "plt.xlim(-x_max, x_max)\n",
    "plt.ylim(-y_max, y_max)\n",
    "\n",
    "plt.grid(b=True)\n",
    "\n",
    "fig.savefig(\"./images/single_lidar_envelope_with_selected_points.png\")\n",
    "plt.legend()\n",
    "plt.show()"
   ]
  },
  {
   "cell_type": "markdown",
   "id": "lonely-transaction",
   "metadata": {},
   "source": [
    "### Fit the LiDAR profile with the built-in function curve_fit"
   ]
  },
  {
   "cell_type": "code",
   "execution_count": 25,
   "id": "horizontal-railway",
   "metadata": {},
   "outputs": [],
   "source": [
    "fitted_values, pcov = curve_fit(modified_burnham_hallock, \n",
    "                                distance_for_fitting, \n",
    "                                velocity_for_fitting, \n",
    "                                p0 = [100,1,0,0])"
   ]
  },
  {
   "cell_type": "markdown",
   "id": "superb-animation",
   "metadata": {},
   "source": [
    "#### Comparison of results with initial data"
   ]
  },
  {
   "cell_type": "code",
   "execution_count": 26,
   "id": "structural-minute",
   "metadata": {},
   "outputs": [
    {
     "data": {
      "text/html": [
       "<div>\n",
       "<style scoped>\n",
       "    .dataframe tbody tr th:only-of-type {\n",
       "        vertical-align: middle;\n",
       "    }\n",
       "\n",
       "    .dataframe tbody tr th {\n",
       "        vertical-align: top;\n",
       "    }\n",
       "\n",
       "    .dataframe thead th {\n",
       "        text-align: right;\n",
       "    }\n",
       "</style>\n",
       "<table border=\"1\" class=\"dataframe\">\n",
       "  <thead>\n",
       "    <tr style=\"text-align: right;\">\n",
       "      <th></th>\n",
       "      <th>Original</th>\n",
       "      <th>Fit</th>\n",
       "      <th>Error</th>\n",
       "      <th>Rel. error</th>\n",
       "    </tr>\n",
       "  </thead>\n",
       "  <tbody>\n",
       "    <tr>\n",
       "      <th>Total circulation</th>\n",
       "      <td>300.00</td>\n",
       "      <td>288.40</td>\n",
       "      <td>11.60</td>\n",
       "      <td>3.87</td>\n",
       "    </tr>\n",
       "    <tr>\n",
       "      <th>Core radius</th>\n",
       "      <td>4.00</td>\n",
       "      <td>3.81</td>\n",
       "      <td>0.19</td>\n",
       "      <td>4.74</td>\n",
       "    </tr>\n",
       "    <tr>\n",
       "      <th>Delta_r</th>\n",
       "      <td>0.05</td>\n",
       "      <td>-0.10</td>\n",
       "      <td>0.15</td>\n",
       "      <td>276.10</td>\n",
       "    </tr>\n",
       "    <tr>\n",
       "      <th>Delta_V</th>\n",
       "      <td>-0.25</td>\n",
       "      <td>-0.23</td>\n",
       "      <td>-0.02</td>\n",
       "      <td>7.67</td>\n",
       "    </tr>\n",
       "  </tbody>\n",
       "</table>\n",
       "</div>"
      ],
      "text/plain": [
       "                   Original     Fit  Error  Rel. error\n",
       "Total circulation    300.00  288.40  11.60        3.87\n",
       "Core radius            4.00    3.81   0.19        4.74\n",
       "Delta_r                0.05   -0.10   0.15      276.10\n",
       "Delta_V               -0.25   -0.23  -0.02        7.67"
      ]
     },
     "execution_count": 26,
     "metadata": {},
     "output_type": "execute_result"
    }
   ],
   "source": [
    "original_values = [total_circulation, core_radius, Delta_r, Delta_V]\n",
    "\n",
    "comparison_table = pd.DataFrame({'Original': original_values, 'Fit': fitted_values, \n",
    "                                 'Error': original_values - fitted_values,\n",
    "                                 'Rel. error': 100 * (original_values - fitted_values) / original_values},\n",
    "                                index=['Total circulation', 'Core radius', 'Delta_r', 'Delta_V'])\n",
    "\n",
    "comparison_table.round(2)"
   ]
  },
  {
   "cell_type": "markdown",
   "id": "black-myanmar",
   "metadata": {},
   "source": [
    "Based on these original values, core radius and total circulation are well estimated."
   ]
  },
  {
   "cell_type": "code",
   "execution_count": 27,
   "id": "specified-visitor",
   "metadata": {},
   "outputs": [],
   "source": [
    "def root_mean_square_error(velocity_for_fitting, velocity_from_fitting):\n",
    "    \"\"\"\n",
    "    velocity_for_fitting: numpy array containing the velocity profile before fitting\n",
    "    velocity_from_fitting: numpy array containing the fitted velocity profile\n",
    "    ---\n",
    "    Returns the root-mean-square error of the fit\n",
    "    \"\"\"\n",
    "    return sqrt(mean_squared_error(velocity_for_fitting, velocity_from_fitting))"
   ]
  },
  {
   "cell_type": "code",
   "execution_count": 28,
   "id": "stable-mechanics",
   "metadata": {},
   "outputs": [
    {
     "name": "stdout",
     "output_type": "stream",
     "text": [
      "The root-mean-square error is 0.281 m/s\n"
     ]
    }
   ],
   "source": [
    "velocity_from_fitting = modified_burnham_hallock(distance_for_fitting, \n",
    "                                                 total_circulation, \n",
    "                                                 core_radius, \n",
    "                                                 Delta_r, Delta_V)\n",
    "\n",
    "RMSE = root_mean_square_error(velocity_for_fitting, velocity_from_fitting)\n",
    "\n",
    "print(f\"The root-mean-square error is {RMSE:0.3f} m/s\")"
   ]
  },
  {
   "cell_type": "markdown",
   "id": "foster-fabric",
   "metadata": {},
   "source": [
    "#### Compare the original, reconstructed and fitted profile all together"
   ]
  },
  {
   "cell_type": "code",
   "execution_count": 29,
   "id": "adequate-experiment",
   "metadata": {},
   "outputs": [],
   "source": [
    "velocity_from_fitting = modified_burnham_hallock(radial_distance_model, \n",
    "                                                 total_circulation, \n",
    "                                                 core_radius, \n",
    "                                                 Delta_r, Delta_V)"
   ]
  },
  {
   "cell_type": "code",
   "execution_count": 30,
   "id": "relevant-dylan",
   "metadata": {},
   "outputs": [
    {
     "data": {
      "image/png": "[encoded data removed]",
      "text/plain": [
       "<Figure size 720x576 with 1 Axes>"
      ]
     },
     "metadata": {
      "needs_background": "light"
     },
     "output_type": "display_data"
    }
   ],
   "source": [
    "%matplotlib inline\n",
    "\n",
    "y_max = int(max(velocity_lidar) / 2) * 2 + 4\n",
    "x_max = 50\n",
    "\n",
    "fig, ax = plt.subplots(figsize=(10, 8))\n",
    "\n",
    "xticks = np.arange(-x_max, x_max, 5)\n",
    "yticks = np.arange(-y_max, y_max, 2)\n",
    "\n",
    "plt.axhline(0, color='black', lw=0.5)\n",
    "plt.axvline(0, color='black', lw=0.5)\n",
    "plt.scatter([0],[0], color='red', label='vortex center')\n",
    "\n",
    "ax.scatter(radial_distance, velocity_lidar, color='blue', label='LiDAR envelope')\n",
    "ax.scatter(distance_for_fitting, velocity_for_fitting, marker='+', color='orange', \\\n",
    "           lw=2, label='selected points')\n",
    "ax.plot(radial_distance_model, velocity_model, color='green', label='model')\n",
    "ax.plot(radial_distance_model, velocity_from_fitting, color='green', ls='--', label='fit')\n",
    "\n",
    "plt.axhline(v_neg_mean, color='orange', lw=1, ls='-.', label='cut-off lines')\n",
    "plt.axhline(v_pos_mean, color='orange', lw=1, ls='-.')\n",
    "\n",
    "ax.set(xlabel='distance from vortex center (m)', ylabel='velocity (m/s)', title='Vortex profile')\n",
    "ax.set_xticks(xticks)\n",
    "ax.set_yticks(yticks)\n",
    "\n",
    "plt.xlim(-x_max, x_max)\n",
    "plt.ylim(-y_max, y_max)\n",
    "\n",
    "plt.grid(b=True)\n",
    "\n",
    "fig.savefig(\"./images/single_lidar_envelope_with_fit.png\")\n",
    "plt.legend()\n",
    "plt.show()"
   ]
  },
  {
   "cell_type": "markdown",
   "id": "korean-morning",
   "metadata": {},
   "source": [
    "## Circulation between 5 to 15m\n",
    "The circulation of a single vortex is a function of radial distance from the vortex center r and the tangential velocity V(r)\n",
    "\n",
    "$\\Gamma(r) = 2 \\pi r V(r)$\n",
    "\n",
    "In cases of wake vortex analysis the standardized circulation is the circulation calculated between 5 and 15m from the vortex center, i.e. the averaged integral within this range."
   ]
  },
  {
   "cell_type": "markdown",
   "id": "broken-leone",
   "metadata": {},
   "source": [
    "#### Integral form"
   ]
  },
  {
   "cell_type": "code",
   "execution_count": 31,
   "id": "narrative-tucson",
   "metadata": {},
   "outputs": [],
   "source": [
    "def gamma5to15_full_integral(model, gamma, rc, a, b):\n",
    "    \"\"\"\n",
    "    model: vortex model among burnham-hallock, lamb_oseen and rankine\n",
    "    gamma: circulation in m^2/s\n",
    "    rc: core_radius in m\n",
    "    a: lower limit of integration\n",
    "    b: upper limit of integration\n",
    "    ---\n",
    "    Returns the averaged integral of the circulation from a to b\n",
    "    \"\"\"\n",
    "    return integrate.quad(lambda r: 2 * pi * r * model(gamma, rc, r), a, b)[0] / (b - a)"
   ]
  },
  {
   "cell_type": "code",
   "execution_count": 32,
   "id": "included-segment",
   "metadata": {},
   "outputs": [],
   "source": [
    "Gamma5to15_full = gamma5to15_full_integral(burnham_hallock, total_circulation, core_radius, 5, 15)"
   ]
  },
  {
   "cell_type": "code",
   "execution_count": 33,
   "id": "boring-sewing",
   "metadata": {},
   "outputs": [
    {
     "name": "stdout",
     "output_type": "stream",
     "text": [
      "The circulation 5-15m for this vortex is 250.3 m^2\n",
      "This represents 83.4 % of the total circulation\n"
     ]
    }
   ],
   "source": [
    "print(f\"The circulation 5-15m for this vortex is {Gamma5to15_full:0.1f} m^2\")\n",
    "print(f\"This represents {100*Gamma5to15_full/total_circulation:0.1f} % of the total circulation\")"
   ]
  },
  {
   "cell_type": "markdown",
   "id": "exclusive-basin",
   "metadata": {},
   "source": [
    "#### Discrete form"
   ]
  },
  {
   "cell_type": "code",
   "execution_count": 34,
   "id": "instructional-crawford",
   "metadata": {},
   "outputs": [],
   "source": [
    "def gamma5to15_selection_of_points(radial_distance, velocity, a, b):\n",
    "    \"\"\"\n",
    "    radial distance: distance from the vortex center as numpy array\n",
    "    velocity: velocity profile (envelope) as a numpy array\n",
    "    a: lower limit of integration\n",
    "    b: upper limit of integration\n",
    "    ---\n",
    "    Returns the selected points between a and b    \"\"\"\n",
    "    preselected_r = radial_distance[np.abs(radial_distance) <= b]\n",
    "    preselected_V = velocity[np.abs(radial_distance) <= b]\n",
    "    \n",
    "    selected_r = preselected_r[np.abs(preselected_r) >= a]\n",
    "    selected_V = preselected_V[np.abs(preselected_r) >= a]\n",
    "\n",
    "    return selected_r, selected_V"
   ]
  },
  {
   "cell_type": "code",
   "execution_count": 35,
   "id": "crucial-curve",
   "metadata": {},
   "outputs": [],
   "source": [
    "def gamma5to15_discrete_integral(radial_distance, velocity, a, b):\n",
    "    \"\"\"\n",
    "    radial distance: distance from the vortex center as numpy array\n",
    "    velocity: velocity profile (envelope) as a numpy array\n",
    "    a: lower limit of integration\n",
    "    b: upper limit of integration\n",
    "    ---\n",
    "    Returns the averaged circulation between a and b\n",
    "    \"\"\"\n",
    "    selected_r, selected_V = gamma5to15_selection_of_points(radial_distance, velocity, a, b)\n",
    "    return np.sum(2 * pi * selected_r * selected_V) / len(selected_r)"
   ]
  },
  {
   "cell_type": "code",
   "execution_count": 36,
   "id": "fatal-castle",
   "metadata": {},
   "outputs": [],
   "source": [
    "Gamma5to15_discrete = gamma5to15_discrete_integral(radial_distance, velocity_lidar, 5, 15)"
   ]
  },
  {
   "cell_type": "code",
   "execution_count": 37,
   "id": "adolescent-screen",
   "metadata": {},
   "outputs": [
    {
     "name": "stdout",
     "output_type": "stream",
     "text": [
      "The circulation 5-15m for this vortex is 246.0 m^2\n",
      "This represents 82.0 % of the total circulation\n"
     ]
    }
   ],
   "source": [
    "print(f\"The circulation 5-15m for this vortex is {Gamma5to15_discrete:0.1f} m^2\")\n",
    "print(f\"This represents {100*Gamma5to15_discrete/total_circulation:0.1f} % of the total circulation\")"
   ]
  },
  {
   "cell_type": "markdown",
   "id": "greatest-black",
   "metadata": {},
   "source": [
    "#### Comparison of results with initial data"
   ]
  },
  {
   "cell_type": "code",
   "execution_count": 38,
   "id": "regular-mexican",
   "metadata": {},
   "outputs": [
    {
     "data": {
      "text/html": [
       "<div>\n",
       "<style scoped>\n",
       "    .dataframe tbody tr th:only-of-type {\n",
       "        vertical-align: middle;\n",
       "    }\n",
       "\n",
       "    .dataframe tbody tr th {\n",
       "        vertical-align: top;\n",
       "    }\n",
       "\n",
       "    .dataframe thead th {\n",
       "        text-align: right;\n",
       "    }\n",
       "</style>\n",
       "<table border=\"1\" class=\"dataframe\">\n",
       "  <thead>\n",
       "    <tr style=\"text-align: right;\">\n",
       "      <th></th>\n",
       "      <th>Original model</th>\n",
       "      <th>LiDAR</th>\n",
       "      <th>Error</th>\n",
       "      <th>Rel. error</th>\n",
       "    </tr>\n",
       "  </thead>\n",
       "  <tbody>\n",
       "    <tr>\n",
       "      <th>Circulation 5-15m</th>\n",
       "      <td>250.3</td>\n",
       "      <td>245.97</td>\n",
       "      <td>4.33</td>\n",
       "      <td>1.73</td>\n",
       "    </tr>\n",
       "  </tbody>\n",
       "</table>\n",
       "</div>"
      ],
      "text/plain": [
       "                   Original model   LiDAR  Error  Rel. error\n",
       "Circulation 5-15m           250.3  245.97   4.33        1.73"
      ]
     },
     "execution_count": 38,
     "metadata": {},
     "output_type": "execute_result"
    }
   ],
   "source": [
    "original_values = np.array([Gamma5to15_full])\n",
    "fitted_values = np.array([Gamma5to15_discrete])\n",
    "\n",
    "comparison_table = pd.DataFrame({'Original model': original_values, 'LiDAR': fitted_values, \n",
    "                                 'Error': original_values - fitted_values,\n",
    "                                 'Rel. error': 100 * (original_values - fitted_values) / original_values},\n",
    "                                index=['Circulation 5-15m'])\n",
    "\n",
    "comparison_table.round(2)"
   ]
  },
  {
   "cell_type": "code",
   "execution_count": null,
   "id": "hispanic-potato",
   "metadata": {},
   "outputs": [],
   "source": []
  }
 ],
 "metadata": {
  "kernelspec": {
   "display_name": "Python 3",
   "language": "python",
   "name": "python3"
  },
  "language_info": {
   "codemirror_mode": {
    "name": "ipython",
    "version": 3
   },
   "file_extension": ".py",
   "mimetype": "text/x-python",
   "name": "python",
   "nbconvert_exporter": "python",
   "pygments_lexer": "ipython3",
   "version": "3.8.8"
  }
 },
 "nbformat": 4,
 "nbformat_minor": 5
}
