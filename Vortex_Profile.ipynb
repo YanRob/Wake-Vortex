{
 "cells": [
  {
   "cell_type": "markdown",
   "id": "judicial-capitol",
   "metadata": {},
   "source": [
    "# Vortex Profile"
   ]
  },
  {
   "cell_type": "markdown",
   "id": "impaired-auckland",
   "metadata": {},
   "source": [
    "### Import libraries"
   ]
  },
  {
   "cell_type": "code",
   "execution_count": 1,
   "id": "sealed-recipe",
   "metadata": {},
   "outputs": [],
   "source": [
    "import random\n",
    "from math import pi\n",
    "\n",
    "import matplotlib\n",
    "import matplotlib.pyplot as plt\n",
    "import numpy as np"
   ]
  },
  {
   "cell_type": "markdown",
   "id": "consecutive-piano",
   "metadata": {},
   "source": [
    "## Vortex models"
   ]
  },
  {
   "cell_type": "markdown",
   "id": "bright-validation",
   "metadata": {},
   "source": [
    "There are several ways to model a 2D vortex. "
   ]
  },
  {
   "cell_type": "markdown",
   "id": "lesser-finding",
   "metadata": {},
   "source": [
    "### Lamb-Oseen model"
   ]
  },
  {
   "cell_type": "markdown",
   "id": "spanish-decision",
   "metadata": {},
   "source": [
    "https://en.wikipedia.org/wiki/Lamb%E2%80%93Oseen_vortex"
   ]
  },
  {
   "cell_type": "markdown",
   "id": "controlling-breeding",
   "metadata": {},
   "source": [
    "Here, we are only interested in the simplified cylindrical form of the Lamb-Oseen model:\n",
    "\n",
    "$V(r) = \\frac{\\Gamma} {2 {\\pi}} (1 - exp(-\\frac{r^2}{r_c^2}))$\n",
    "\n",
    "where:\n",
    "- ${\\Gamma}$ is the total circulation\n",
    "- ${r}$ is the distance from the vortex core\n",
    "- ${r_c}$ is the mean vortex core, i.e. the half of distance between velocity peaks\n",
    "- ${V(r)}$ is the tangential velocity a r"
   ]
  },
  {
   "cell_type": "code",
   "execution_count": 2,
   "id": "arbitrary-drain",
   "metadata": {},
   "outputs": [],
   "source": [
    "def lamb_oseen(gamma, rc, r):\n",
    "    \"\"\"\n",
    "    gamma = circulation in m^2/s\n",
    "    rc = core_radius in m\n",
    "    r = distance_from_core in m\n",
    "    returns the tangential velocity\n",
    "    \"\"\"\n",
    "    # Small manipulation to avoid the case r = 0 below \n",
    "    r_new = (r == 0).astype(int) / 1000 + r\n",
    "    return gamma / (2 * pi * r_new) * (1 - np.exp( - r ** 2 / rc ** 2))"
   ]
  },
  {
   "cell_type": "markdown",
   "id": "helpful-details",
   "metadata": {},
   "source": [
    "### Rankine model"
   ]
  },
  {
   "cell_type": "markdown",
   "id": "legislative-rogers",
   "metadata": {},
   "source": [
    "https://en.wikipedia.org/wiki/Rankine_vortex"
   ]
  },
  {
   "cell_type": "markdown",
   "id": "subsequent-japanese",
   "metadata": {},
   "source": [
    "The drawback the rankine model is its non-linearity. Therefore it won't be used."
   ]
  },
  {
   "cell_type": "markdown",
   "id": "disturbed-protection",
   "metadata": {},
   "source": [
    "$V(r) = \\frac{\\Gamma r}{2 {\\pi} r_c^2} $ for $r \\le R $\n",
    "\n",
    "$V(r) = \\frac{\\Gamma}{2 {\\pi} r} $ if $ for > R $\n",
    "\n",
    "\n",
    "where:\n",
    "- ${\\Gamma}$ is the total circulation\n",
    "- ${r}$ is the distance from the vortex core\n",
    "- ${r_c}$ is the mean vortex core, i.e. the half of distance between velocity peaks\n",
    "- ${V(r)}$ is the tangential velocity a r"
   ]
  },
  {
   "cell_type": "code",
   "execution_count": 3,
   "id": "behavioral-charleston",
   "metadata": {},
   "outputs": [],
   "source": [
    "def rankine(gamma, rc, r):\n",
    "    \"\"\"\n",
    "    gamma = circulation in m^2/s\n",
    "    rc = core_radius in m\n",
    "    r = distance_from_core in m\n",
    "    returns the tangential velocity\n",
    "    \"\"\"\n",
    "    internal_V = (abs(r) <= rc).astype(int) * gamma * r /( 2 * pi * rc**2)\n",
    "    # Small manipulation to avoid the case r = 0 below \n",
    "    r_new = (r == 0).astype(int) / 1000 + r\n",
    "    external_V = (abs(r) > rc).astype(int) * gamma / (2 * pi * r_new)\n",
    "    return internal_V + external_V"
   ]
  },
  {
   "cell_type": "markdown",
   "id": "threatened-newcastle",
   "metadata": {},
   "source": [
    "### Burnham-Hallock model"
   ]
  },
  {
   "cell_type": "markdown",
   "id": "medical-movement",
   "metadata": {},
   "source": [
    "The Burnham-Hallock model is commonly used for aircraft wake vortices.\n",
    "\n",
    "$V(r)=\\frac{\\Gamma}{2{\\pi}r}\\frac{r^2}{r^2+r_c^2}$\n",
    "\n",
    "where:\n",
    "- ${\\Gamma}$ is the total circulation\n",
    "- ${r}$ is the distance from the vortex core\n",
    "- ${r_c}$ is the mean vortex core, i.e. the half of distance between velocity peaks\n",
    "- ${V(r)}$ is the tangential velocity a r"
   ]
  },
  {
   "cell_type": "code",
   "execution_count": 4,
   "id": "final-chile",
   "metadata": {},
   "outputs": [],
   "source": [
    "def burnham_hallock(gamma, rc, r):\n",
    "    \"\"\"\n",
    "    gamma = circulation in m^2/s\n",
    "    rc = core_radius in m\n",
    "    r = distance_from_core in m\n",
    "    returns the tangential velocity\n",
    "    \"\"\"\n",
    "    return gamma / (2 * pi) * r / (r ** 2 + rc ** 2)"
   ]
  },
  {
   "cell_type": "markdown",
   "id": "cardiovascular-bridge",
   "metadata": {},
   "source": [
    "### Comparison of the models"
   ]
  },
  {
   "cell_type": "markdown",
   "id": "retained-burke",
   "metadata": {},
   "source": [
    "Let's define a vortex with 300m^2/s circulation and a core radius of 4m between -20m and 20m and plot the vortex profile"
   ]
  },
  {
   "cell_type": "code",
   "execution_count": 5,
   "id": "sixth-latex",
   "metadata": {},
   "outputs": [],
   "source": [
    "r_max = 20\n",
    "r_min = -r_max\n",
    "r_step = 0.5\n",
    "\n",
    "total_circulation = 300\n",
    "core_radius = 4\n",
    "\n",
    "distance_from_core = np.arange(r_min, r_max+r_step, r_step)\n",
    "\n",
    "velocity_lo = lamb_oseen(total_circulation, core_radius, distance_from_core)\n",
    "velocity_ra = rankine(total_circulation, core_radius, distance_from_core)\n",
    "velocity_bh = burnham_hallock(total_circulation, core_radius, distance_from_core)"
   ]
  },
  {
   "cell_type": "code",
   "execution_count": 6,
   "id": "fixed-marine",
   "metadata": {},
   "outputs": [
    {
     "data": {
      "image/png": "[encoded data removed]",
      "text/plain": [
       "<Figure size 720x576 with 1 Axes>"
      ]
     },
     "metadata": {
      "needs_background": "light"
     },
     "output_type": "display_data"
    }
   ],
   "source": [
    "%matplotlib inline\n",
    "\n",
    "y_max = int(max(np.max(velocity_lo), np.max(velocity_ra), np.max(velocity_bh)) / 2) * 2 + 4\n",
    "x_max = r_max\n",
    "\n",
    "fig, ax = plt.subplots(figsize=(10, 8))\n",
    "\n",
    "xticks = np.arange(-x_max, x_max, 2)\n",
    "yticks = np.arange(-y_max, y_max, 2)\n",
    "\n",
    "plt.axhline(0, color='black', lw=0.5)\n",
    "plt.axvline(0, color='black', lw=0.5)\n",
    "plt.scatter([0],[0], color='red', label='vortex core')\n",
    "\n",
    "ax.plot(distance_from_core, velocity_lo, color='blue', label='Lamb-Oseen')\n",
    "ax.plot(distance_from_core, velocity_ra, color='green', label='Rankine')\n",
    "ax.plot(distance_from_core, velocity_bh, color='magenta', label='Burnham-Hallock')\n",
    "\n",
    "ax.set(xlabel='distance from core (m)', ylabel='velocity (m/s)', title='Vortex profile')\n",
    "ax.set_xticks(xticks)\n",
    "ax.set_yticks(yticks)\n",
    "\n",
    "plt.xlim(-x_max, x_max)\n",
    "plt.ylim(-y_max, y_max)\n",
    "\n",
    "plt.grid(b=True)\n",
    "\n",
    "fig.savefig(\"./images/single_burnham_hallock_profile.png\")\n",
    "plt.legend()\n",
    "plt.show()"
   ]
  },
  {
   "cell_type": "markdown",
   "id": "optimum-destiny",
   "metadata": {},
   "source": [
    "## Reconstruction of a LiDAR envelope"
   ]
  },
  {
   "cell_type": "markdown",
   "id": "offensive-baseline",
   "metadata": {},
   "source": [
    "The analysis of aircraft wake vortices is made using data provided by post-processing of LiDAR measurements. These data consist of envelopes of the measured velocity as a function of the distance from the assumed position of the vortex core.\n",
    "\n",
    "To make the data more realistic, following additional parameters must be added to the model equations:\n",
    "- random background noise\n",
    "- core shift $\\Delta r_c$\n",
    "- velocity shift $\\Delta V$\n",
    "- random error around the calculted profile $\\delta \\epsilon_V$\n",
    "\n",
    "The measurements are discrete, that means, that we obtained points on the velocity profile at a regular interval, the so-called LiDAR resolution."
   ]
  },
  {
   "cell_type": "code",
   "execution_count": 7,
   "id": "infrared-heath",
   "metadata": {},
   "outputs": [],
   "source": [
    "def add_noise_to_envelope(velocity):\n",
    "    \"\"\"\n",
    "    Add noise to the envelope.\n",
    "    Noise is assumed to be 2 m/s\n",
    "    The envelope is crossing the y=0 only in the core\n",
    "    \"\"\"\n",
    "    noise = np.random.normal(1, 0.25, velocity.shape) * np.sign(velocity)\n",
    "    return np.maximum(np.abs(velocity), noise) * np.sign(velocity)"
   ]
  },
  {
   "cell_type": "code",
   "execution_count": 8,
   "id": "driven-advice",
   "metadata": {},
   "outputs": [],
   "source": [
    "def add_shift():\n",
    "    \"\"\"\n",
    "    Returns two random numbers for core and velocity shift\n",
    "    \"\"\"\n",
    "    return random.gauss(0, 0.25), random.gauss(0, 0.25)"
   ]
  },
  {
   "cell_type": "code",
   "execution_count": 9,
   "id": "decent-scene",
   "metadata": {},
   "outputs": [],
   "source": [
    "def add_random_error(velocity):\n",
    "    \"\"\"\n",
    "    Add random error to the velocity profile\n",
    "    An error of +/- 0.5 m/s is added to the profile\n",
    "    \"\"\"\n",
    "    return velocity + np.random.normal(0, 0.25, velocity.shape)"
   ]
  },
  {
   "cell_type": "code",
   "execution_count": 10,
   "id": "sonic-vancouver",
   "metadata": {},
   "outputs": [],
   "source": [
    "def generate_lidar_envelope(Gamma, rc, r, model=burnham_hallock):\n",
    "    Delta_r, Delta_V = add_shift()\n",
    "    # core shift\n",
    "    r -= Delta_r\n",
    "    # Velocity profile\n",
    "    velocity_profile = model(Gamma, rc, r)\n",
    "    # add the noise\n",
    "    velocity_profile = add_noise_to_envelope(velocity_profile)\n",
    "    # add the random_error\n",
    "    velocity_profile = add_random_error(velocity_profile)\n",
    "    # Velocity shift\n",
    "    return velocity_profile + Delta_V"
   ]
  },
  {
   "cell_type": "code",
   "execution_count": 11,
   "id": "varying-television",
   "metadata": {},
   "outputs": [],
   "source": [
    "def set_lidar_resolution():\n",
    "    return random.uniform(1, 3)"
   ]
  },
  {
   "cell_type": "markdown",
   "id": "handmade-fisher",
   "metadata": {},
   "source": [
    "Let's define a vortex with 300m^2/s circulation and a core radius of 3m between -100m and 100m and plot the vortex profile with the LiDAR envelope.\n",
    "\n",
    "For this exercise, we use a Burnham-Hallock profile"
   ]
  },
  {
   "cell_type": "code",
   "execution_count": 12,
   "id": "mediterranean-minimum",
   "metadata": {},
   "outputs": [],
   "source": [
    "r_max = 100\n",
    "r_min = -r_max\n",
    "r_step = set_lidar_resolution()\n",
    "\n",
    "total_circulation = 300\n",
    "core_radius = 4\n",
    "\n",
    "distance_from_core = np.arange(r_min, r_max+r_step, r_step)\n",
    "\n",
    "velocity_lidar = generate_lidar_envelope(total_circulation, core_radius, distance_from_core)\n",
    "velocity_model = burnham_hallock(total_circulation, core_radius, distance_from_core)"
   ]
  },
  {
   "cell_type": "code",
   "execution_count": 13,
   "id": "aerial-novel",
   "metadata": {},
   "outputs": [
    {
     "data": {
      "image/png": "[encoded data removed]",
      "text/plain": [
       "<Figure size 720x576 with 1 Axes>"
      ]
     },
     "metadata": {
      "needs_background": "light"
     },
     "output_type": "display_data"
    }
   ],
   "source": [
    "%matplotlib inline\n",
    "\n",
    "y_max = int(max(velocity_lidar) / 2) * 2 + 4\n",
    "x_max = 50\n",
    "\n",
    "fig, ax = plt.subplots(figsize=(10, 8))\n",
    "\n",
    "xticks = np.arange(-x_max, x_max, 5)\n",
    "yticks = np.arange(-y_max, y_max, 2)\n",
    "\n",
    "plt.axhline(0, color='black', lw=0.5)\n",
    "plt.axvline(0, color='black', lw=0.5)\n",
    "plt.scatter([0],[0], color='red', label='vortex core')\n",
    "\n",
    "ax.scatter(distance_from_core, velocity_lidar, color='blue', label='LiDAR envelope')\n",
    "ax.plot(distance_from_core, velocity_model, color='green', label='model')\n",
    "\n",
    "ax.set(xlabel='distance from core (m)', ylabel='velocity (m/s)', title='Vortex profile')\n",
    "ax.set_xticks(xticks)\n",
    "ax.set_yticks(yticks)\n",
    "\n",
    "plt.xlim(-x_max, x_max)\n",
    "plt.ylim(-y_max, y_max)\n",
    "\n",
    "plt.grid(b=True)\n",
    "\n",
    "fig.savefig(\"./images/single_lidar_envelope.png\")\n",
    "plt.legend()\n",
    "plt.show()"
   ]
  },
  {
   "cell_type": "markdown",
   "id": "radio-january",
   "metadata": {},
   "source": [
    "## Fitting of the LiDAR profile"
   ]
  },
  {
   "cell_type": "markdown",
   "id": "olympic-access",
   "metadata": {},
   "source": [
    "The current step consists in doing the other way: from the reconstructed LiDAR profile, we will fit the data to estimate the original vortex characteristics\n",
    "\n",
    "The adapted Burnham-Hallock model fitting the reconstructed data or the vortex profile data obtained from the LiDAR processing looks like:\n",
    "\n",
    "$V(r)=\\frac{\\Gamma}{2{\\pi}(r-\\Delta r_c)}\\frac{(r-\\Delta r_c)^2}{(r-\\Delta r_c)^2+r_c^2} + \\Delta V$ \n",
    "\n",
    "Therefore, there are 4 unknown for this equation:\n",
    "- $\\Gamma$, the total circulation of the vortex\n",
    "- $r_c$, the core radius of the vortex\n",
    "- $\\Delta r_c$, the shift in the direction of the r coordinate\n",
    "- $\\Delta V$, the velocity shift"
   ]
  },
  {
   "cell_type": "markdown",
   "id": "sunset-brain",
   "metadata": {},
   "source": [
    "### First estimation of the velocity peaks\n",
    "The positions of the maximum and minimum velocity are read from the LiDAR profile."
   ]
  },
  {
   "cell_type": "code",
   "execution_count": 14,
   "id": "bigger-sunrise",
   "metadata": {},
   "outputs": [],
   "source": [
    "def get_min_max_index(velocity_lidar):\n",
    "    return np.argmin(velocity_lidar), np.argmax(velocity_lidar)"
   ]
  },
  {
   "cell_type": "code",
   "execution_count": 15,
   "id": "organized-polyester",
   "metadata": {},
   "outputs": [],
   "source": [
    "def get_min_max_radii(distance_from_core, velocity_lidar):\n",
    "    idx_min, idx_max = get_min_max_index(velocity_lidar)\n",
    "    return distance_from_core[idx_min], distance_from_core[idx_max]"
   ]
  },
  {
   "cell_type": "code",
   "execution_count": 16,
   "id": "different-conducting",
   "metadata": {},
   "outputs": [],
   "source": [
    "def get_min_max_velocity(velocity_lidar):\n",
    "    return np.min(velocity_lidar), np.max(velocity_lidar)"
   ]
  },
  {
   "cell_type": "markdown",
   "id": "wrong-aruba",
   "metadata": {},
   "source": [
    "### Estimation of the mean velocities\n",
    "The mean velocity is the mean of the absolute velocity.\n",
    "\n",
    "Positive and negative mean velocities outside the vortex core are calculated separately."
   ]
  },
  {
   "cell_type": "code",
   "execution_count": 17,
   "id": "democratic-field",
   "metadata": {},
   "outputs": [],
   "source": [
    "def get_abs_mean_velocity(velocity_lidar):\n",
    "    return np.mean(np.abs(velocity_lidar))"
   ]
  },
  {
   "cell_type": "code",
   "execution_count": 18,
   "id": "cutting-economics",
   "metadata": {
    "scrolled": true
   },
   "outputs": [],
   "source": [
    "def get_neg_pos_mean_velocities(velocity_lidar):\n",
    "    idx_min, idx_max = get_min_max_index(velocity_lidar)\n",
    "    return np.mean(velocity_lidar[:idx_min+1]), np.mean(velocity_lidar[idx_max:])"
   ]
  },
  {
   "cell_type": "markdown",
   "id": "bottom-helena",
   "metadata": {},
   "source": [
    "### Dismissing of outliers\n",
    "#### Noise - Cuf-off\n",
    "First, points far from the core are not to be separated from the noise. A first cut-off is introduced under the following assumptions:\n",
    "- Only a small of points is measured around the core,\n",
    "- Their velocities are bigger than the noise,\n",
    "- In that case, the mean velocity is slighty bigger than the noise,\n",
    "- Every point under the mean velocity may therefore be considered as an outlier and has to be dismissed,\n",
    "- To avoid an early cut-off due to a single outlier, there must be at least 3 points in a row under the mean velocity to locate the cut-off position.\n",
    "- Points at the limit of the window are considered to be noise.\n",
    "\n",
    "This method is used for positive and negative velocities separately."
   ]
  },
  {
   "cell_type": "code",
   "execution_count": 19,
   "id": "protective-sympathy",
   "metadata": {},
   "outputs": [],
   "source": [
    "def selection_of_points(velocity_lidar):\n",
    "    v_neg_mean, v_pos_mean = get_neg_pos_mean_velocities(velocity_lidar)\n",
    "    selected_neg_points = (velocity_lidar <= v_neg_mean).astype(int)\\\n",
    "                        * (np.append((velocity_lidar[1:] <= v_neg_mean).astype(int), np.zeros(1))\\\n",
    "                         + np.append((velocity_lidar[2:] <= v_neg_mean).astype(int), np.zeros(2)))\n",
    "    selected_pos_points = (velocity_lidar >= v_pos_mean).astype(int)\\\n",
    "                        * (np.append(np.zeros(1), (velocity_lidar[:-1] >= v_pos_mean).astype(int))\\\n",
    "                         + np.append(np.zeros(2), (velocity_lidar[:-2] >= v_pos_mean).astype(int)))\n",
    "#    selected_neg_points = (velocity_lidar <= v_neg_mean).astype(int)\\\n",
    "#                        + np.append((velocity_lidar[1:] <= v_neg_mean).astype(int), np.zeros(1))\\\n",
    "#                        + np.append((velocity_lidar[2:] <= v_neg_mean).astype(int), np.zeros(2))\n",
    "#    selected_pos_points = (velocity_lidar >= v_pos_mean).astype(int)\\\n",
    "#                        + np.append(np.zeros(1), (velocity_lidar[:-1] >= v_pos_mean).astype(int))\\\n",
    "#                        + np.append(np.zeros(2), (velocity_lidar[:-2] >= v_pos_mean).astype(int))\n",
    "    return selected_neg_points + selected_pos_points"
   ]
  },
  {
   "cell_type": "code",
   "execution_count": 20,
   "id": "precise-analysis",
   "metadata": {},
   "outputs": [],
   "source": [
    "def dismiss_values_from_vectors(vector, selected_points):\n",
    "    idx_start = np.where(selected_points >= 1)[0][0]\n",
    "    idx_end = np.where(selected_points >= 1)[0][-1]\n",
    "    return vector[idx_start:idx_end+1]"
   ]
  },
  {
   "cell_type": "code",
   "execution_count": 21,
   "id": "sensitive-justice",
   "metadata": {},
   "outputs": [],
   "source": [
    "selected_points = selection_of_points(velocity_lidar)\n",
    "distance_for_fitting = dismiss_values_from_vectors(distance_from_core, selected_points)\n",
    "velocity_for_fitting = dismiss_values_from_vectors(velocity_lidar, selected_points)"
   ]
  },
  {
   "cell_type": "code",
   "execution_count": 22,
   "id": "fundamental-rider",
   "metadata": {},
   "outputs": [],
   "source": [
    "v_neg_mean, v_pos_mean = get_neg_pos_mean_velocities(velocity_lidar)"
   ]
  },
  {
   "cell_type": "code",
   "execution_count": 23,
   "id": "marked-alcohol",
   "metadata": {
    "scrolled": true
   },
   "outputs": [
    {
     "data": {
      "image/png": "[encoded data removed]",
      "text/plain": [
       "<Figure size 720x576 with 1 Axes>"
      ]
     },
     "metadata": {
      "needs_background": "light"
     },
     "output_type": "display_data"
    }
   ],
   "source": [
    "%matplotlib inline\n",
    "\n",
    "y_max = int(max(velocity_lidar) / 2) * 2 + 4\n",
    "x_max = 50\n",
    "\n",
    "fig, ax = plt.subplots(figsize=(10, 8))\n",
    "\n",
    "xticks = np.arange(-x_max, x_max, 5)\n",
    "yticks = np.arange(-y_max, y_max, 2)\n",
    "\n",
    "plt.axhline(0, color='black', lw=0.5)\n",
    "plt.axvline(0, color='black', lw=0.5)\n",
    "plt.scatter([0],[0], color='red', label='vortex core')\n",
    "\n",
    "ax.scatter(distance_from_core, velocity_lidar, color='blue', label='LiDAR envelope')\n",
    "ax.scatter(distance_for_fitting, velocity_for_fitting, marker='+', color='orange', \\\n",
    "           lw=2, label='selected points')\n",
    "ax.plot(distance_from_core, velocity_model, color='green', label='model')\n",
    "\n",
    "plt.axhline(v_neg_mean, color='orange', lw=1, ls='-.', label='cut-off lines')\n",
    "plt.axhline(v_pos_mean, color='orange', lw=1, ls='-.')\n",
    "\n",
    "ax.set(xlabel='distance from core (m)', ylabel='velocity (m/s)', title='Vortex profile')\n",
    "ax.set_xticks(xticks)\n",
    "ax.set_yticks(yticks)\n",
    "\n",
    "plt.xlim(-x_max, x_max)\n",
    "plt.ylim(-y_max, y_max)\n",
    "\n",
    "plt.grid(b=True)\n",
    "\n",
    "fig.savefig(\"./images/single_lidar_envelope_with_selected_points.png\")\n",
    "plt.legend()\n",
    "plt.show()"
   ]
  },
  {
   "cell_type": "code",
   "execution_count": null,
   "id": "deadly-grounds",
   "metadata": {},
   "outputs": [],
   "source": []
  }
 ],
 "metadata": {
  "kernelspec": {
   "display_name": "Python 3",
   "language": "python",
   "name": "python3"
  },
  "language_info": {
   "codemirror_mode": {
    "name": "ipython",
    "version": 3
   },
   "file_extension": ".py",
   "mimetype": "text/x-python",
   "name": "python",
   "nbconvert_exporter": "python",
   "pygments_lexer": "ipython3",
   "version": "3.9.1"
  }
 },
 "nbformat": 4,
 "nbformat_minor": 5
}
