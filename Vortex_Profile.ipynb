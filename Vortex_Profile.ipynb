{
 "cells": [
  {
   "cell_type": "markdown",
   "id": "headed-corporation",
   "metadata": {},
   "source": [
    "# Vortex Profile"
   ]
  },
  {
   "cell_type": "markdown",
   "id": "respiratory-gravity",
   "metadata": {},
   "source": [
    "### Import libraries"
   ]
  },
  {
   "cell_type": "code",
   "execution_count": 1,
   "id": "loaded-vatican",
   "metadata": {},
   "outputs": [],
   "source": [
    "import random\n",
    "from math import pi\n",
    "\n",
    "import matplotlib\n",
    "import matplotlib.pyplot as plt\n",
    "import numpy as np\n",
    "import pandas as pd\n",
    "from scipy.optimize import curve_fit\n",
    "from sklearn.metrics import mean_squared_error"
   ]
  },
  {
   "cell_type": "markdown",
   "id": "corresponding-vulnerability",
   "metadata": {},
   "source": [
    "## Vortex models"
   ]
  },
  {
   "cell_type": "markdown",
   "id": "detected-wednesday",
   "metadata": {},
   "source": [
    "There are several ways to model a 2D vortex. "
   ]
  },
  {
   "cell_type": "markdown",
   "id": "round-casino",
   "metadata": {},
   "source": [
    "### Lamb-Oseen model"
   ]
  },
  {
   "cell_type": "markdown",
   "id": "daily-meeting",
   "metadata": {},
   "source": [
    "https://en.wikipedia.org/wiki/Lamb%E2%80%93Oseen_vortex"
   ]
  },
  {
   "cell_type": "markdown",
   "id": "incomplete-falls",
   "metadata": {},
   "source": [
    "Here, we are only interested in the simplified cylindrical form of the Lamb-Oseen model:\n",
    "\n",
    "$V(r) = \\frac{\\Gamma} {2 {\\pi}} (1 - exp(-\\frac{r^2}{r_c^2}))$\n",
    "\n",
    "where:\n",
    "- ${\\Gamma}$ is the total circulation\n",
    "- ${r}$ is the distance from the vortex core\n",
    "- ${r_c}$ is the mean vortex core, i.e. the half of distance between velocity peaks\n",
    "- ${V(r)}$ is the tangential velocity a r"
   ]
  },
  {
   "cell_type": "code",
   "execution_count": 2,
   "id": "novel-plymouth",
   "metadata": {},
   "outputs": [],
   "source": [
    "def lamb_oseen(gamma, rc, r):\n",
    "    \"\"\"\n",
    "    gamma = circulation in m^2/s\n",
    "    rc = core_radius in m\n",
    "    r = distance_from_core in m\n",
    "    returns the tangential velocity\n",
    "    \"\"\"\n",
    "    # Small manipulation to avoid the case r = 0 below \n",
    "    r_new = (r == 0).astype(int) / 1000 + r\n",
    "    return gamma / (2 * pi * r_new) * (1 - np.exp( - r ** 2 / rc ** 2))"
   ]
  },
  {
   "cell_type": "markdown",
   "id": "green-convertible",
   "metadata": {},
   "source": [
    "### Rankine model"
   ]
  },
  {
   "cell_type": "markdown",
   "id": "detailed-recycling",
   "metadata": {},
   "source": [
    "https://en.wikipedia.org/wiki/Rankine_vortex"
   ]
  },
  {
   "cell_type": "markdown",
   "id": "american-buying",
   "metadata": {},
   "source": [
    "The drawback the rankine model is its non-linearity. Therefore it won't be used."
   ]
  },
  {
   "cell_type": "markdown",
   "id": "sonic-differential",
   "metadata": {},
   "source": [
    "$V(r) = \\frac{\\Gamma r}{2 {\\pi} r_c^2} $ for $r \\le R $\n",
    "\n",
    "$V(r) = \\frac{\\Gamma}{2 {\\pi} r} $ if $ for > R $\n",
    "\n",
    "\n",
    "where:\n",
    "- ${\\Gamma}$ is the total circulation\n",
    "- ${r}$ is the distance from the vortex core\n",
    "- ${r_c}$ is the mean vortex core, i.e. the half of distance between velocity peaks\n",
    "- ${V(r)}$ is the tangential velocity a r"
   ]
  },
  {
   "cell_type": "code",
   "execution_count": 3,
   "id": "proved-anthropology",
   "metadata": {},
   "outputs": [],
   "source": [
    "def rankine(gamma, rc, r):\n",
    "    \"\"\"\n",
    "    gamma = circulation in m^2/s\n",
    "    rc = core_radius in m\n",
    "    r = distance_from_core in m\n",
    "    returns the tangential velocity\n",
    "    \"\"\"\n",
    "    internal_V = (abs(r) <= rc).astype(int) * gamma * r /( 2 * pi * rc**2)\n",
    "    # Small manipulation to avoid the case r = 0 below \n",
    "    r_new = (r == 0).astype(int) / 1000 + r\n",
    "    external_V = (abs(r) > rc).astype(int) * gamma / (2 * pi * r_new)\n",
    "    return internal_V + external_V"
   ]
  },
  {
   "cell_type": "markdown",
   "id": "first-remedy",
   "metadata": {},
   "source": [
    "### Burnham-Hallock model"
   ]
  },
  {
   "cell_type": "markdown",
   "id": "applicable-period",
   "metadata": {},
   "source": [
    "The Burnham-Hallock model is commonly used for aircraft wake vortices.\n",
    "\n",
    "$V(r)=\\frac{\\Gamma}{2{\\pi}r}\\frac{r^2}{r^2+r_c^2}$\n",
    "\n",
    "where:\n",
    "- ${\\Gamma}$ is the total circulation\n",
    "- ${r}$ is the distance from the vortex core\n",
    "- ${r_c}$ is the mean vortex core, i.e. the half of distance between velocity peaks\n",
    "- ${V(r)}$ is the tangential velocity a r"
   ]
  },
  {
   "cell_type": "code",
   "execution_count": 4,
   "id": "treated-lawsuit",
   "metadata": {},
   "outputs": [],
   "source": [
    "def burnham_hallock(gamma, rc, r):\n",
    "    \"\"\"\n",
    "    gamma = circulation in m^2/s\n",
    "    rc = core_radius in m\n",
    "    r = distance_from_core in m\n",
    "    returns the tangential velocity\n",
    "    \"\"\"\n",
    "    return gamma / (2 * pi) * r / (r ** 2 + rc ** 2)"
   ]
  },
  {
   "cell_type": "markdown",
   "id": "gorgeous-ranch",
   "metadata": {},
   "source": [
    "### Comparison of the models"
   ]
  },
  {
   "cell_type": "markdown",
   "id": "biblical-latest",
   "metadata": {},
   "source": [
    "Let's define a vortex with 300m^2/s circulation and a core radius of 4m between -20m and 20m and plot the vortex profile"
   ]
  },
  {
   "cell_type": "code",
   "execution_count": 5,
   "id": "useful-partnership",
   "metadata": {},
   "outputs": [],
   "source": [
    "r_max = 20\n",
    "r_min = -r_max\n",
    "r_step = 0.5\n",
    "\n",
    "total_circulation = 300\n",
    "core_radius = 4\n",
    "\n",
    "distance_from_core = np.arange(r_min, r_max+r_step, r_step)\n",
    "\n",
    "velocity_lo = lamb_oseen(total_circulation, core_radius, distance_from_core)\n",
    "velocity_ra = rankine(total_circulation, core_radius, distance_from_core)\n",
    "velocity_bh = burnham_hallock(total_circulation, core_radius, distance_from_core)"
   ]
  },
  {
   "cell_type": "code",
   "execution_count": 6,
   "id": "dangerous-officer",
   "metadata": {},
   "outputs": [
    {
     "data": {
      "image/png": "[encoded data removed]",
      "text/plain": [
       "<Figure size 720x576 with 1 Axes>"
      ]
     },
     "metadata": {
      "needs_background": "light"
     },
     "output_type": "display_data"
    }
   ],
   "source": [
    "%matplotlib inline\n",
    "\n",
    "y_max = int(max(np.max(velocity_lo), np.max(velocity_ra), np.max(velocity_bh)) / 2) * 2 + 4\n",
    "x_max = r_max\n",
    "\n",
    "fig, ax = plt.subplots(figsize=(10, 8))\n",
    "\n",
    "xticks = np.arange(-x_max, x_max, 2)\n",
    "yticks = np.arange(-y_max, y_max, 2)\n",
    "\n",
    "plt.axhline(0, color='black', lw=0.5)\n",
    "plt.axvline(0, color='black', lw=0.5)\n",
    "plt.scatter([0],[0], color='red', label='vortex core')\n",
    "\n",
    "ax.plot(distance_from_core, velocity_lo, color='blue', label='Lamb-Oseen')\n",
    "ax.plot(distance_from_core, velocity_ra, color='green', label='Rankine')\n",
    "ax.plot(distance_from_core, velocity_bh, color='magenta', label='Burnham-Hallock')\n",
    "\n",
    "ax.set(xlabel='distance from core (m)', ylabel='velocity (m/s)', title='Vortex profile')\n",
    "ax.set_xticks(xticks)\n",
    "ax.set_yticks(yticks)\n",
    "\n",
    "plt.xlim(-x_max, x_max)\n",
    "plt.ylim(-y_max, y_max)\n",
    "\n",
    "plt.grid(b=True)\n",
    "\n",
    "fig.savefig(\"./images/single_burnham_hallock_profile.png\")\n",
    "plt.legend()\n",
    "plt.show()"
   ]
  },
  {
   "cell_type": "markdown",
   "id": "measured-primary",
   "metadata": {},
   "source": [
    "## Reconstruction of a LiDAR envelope"
   ]
  },
  {
   "cell_type": "markdown",
   "id": "ruled-treasurer",
   "metadata": {},
   "source": [
    "The analysis of aircraft wake vortices is made using data provided by post-processing of LiDAR measurements. These data consist of envelopes of the measured velocity as a function of the distance from the assumed position of the vortex core.\n",
    "\n",
    "To make the data more realistic, following additional parameters must be added to the model equations:\n",
    "- random background noise\n",
    "- core shift $\\Delta r_c$\n",
    "- velocity shift $\\Delta V$\n",
    "- random error around the calculted profile $\\delta \\epsilon_V$\n",
    "\n",
    "The measurements are discrete, that means, that we obtained points on the velocity profile at a regular interval, the so-called LiDAR resolution."
   ]
  },
  {
   "cell_type": "code",
   "execution_count": 7,
   "id": "sustained-financing",
   "metadata": {},
   "outputs": [],
   "source": [
    "def add_noise_to_envelope(velocity):\n",
    "    \"\"\"\n",
    "    Add noise to the envelope.\n",
    "    Noise is assumed to be 2 m/s\n",
    "    The envelope is crossing the y=0 only in the core\n",
    "    \"\"\"\n",
    "    noise = np.random.normal(1, 0.25, velocity.shape) * np.sign(velocity)\n",
    "    return np.maximum(np.abs(velocity), noise) * np.sign(velocity)"
   ]
  },
  {
   "cell_type": "code",
   "execution_count": 8,
   "id": "verified-father",
   "metadata": {},
   "outputs": [],
   "source": [
    "def add_shift():\n",
    "    \"\"\"\n",
    "    Returns two random numbers for core and velocity shift\n",
    "    \"\"\"\n",
    "    return random.gauss(0, 0.25), random.gauss(0, 0.25)"
   ]
  },
  {
   "cell_type": "code",
   "execution_count": 9,
   "id": "alternative-passage",
   "metadata": {},
   "outputs": [],
   "source": [
    "def add_random_error(velocity):\n",
    "    \"\"\"\n",
    "    Add random error to the velocity profile\n",
    "    An error of +/- 0.5 m/s is added to the profile\n",
    "    \"\"\"\n",
    "    return velocity + np.random.normal(0, 0.25, velocity.shape)"
   ]
  },
  {
   "cell_type": "code",
   "execution_count": 10,
   "id": "collect-entity",
   "metadata": {},
   "outputs": [],
   "source": [
    "def generate_lidar_envelope(Gamma, rc, r, model=burnham_hallock):\n",
    "    Delta_r, Delta_V = add_shift()\n",
    "    # core shift\n",
    "    r -= Delta_r\n",
    "    # Velocity profile\n",
    "    velocity_profile = model(Gamma, rc, r)\n",
    "    # add the noise\n",
    "    velocity_profile = add_noise_to_envelope(velocity_profile)\n",
    "    # add the random_error\n",
    "    velocity_profile = add_random_error(velocity_profile)\n",
    "    # Velocity shift\n",
    "    return velocity_profile + Delta_V, Delta_r, Delta_V"
   ]
  },
  {
   "cell_type": "code",
   "execution_count": 11,
   "id": "conditional-catering",
   "metadata": {},
   "outputs": [],
   "source": [
    "def set_lidar_resolution():\n",
    "    return random.uniform(1, 3)"
   ]
  },
  {
   "cell_type": "markdown",
   "id": "suited-independence",
   "metadata": {},
   "source": [
    "Let's define a vortex with 300m^2/s circulation and a core radius of 3m between -100m and 100m and plot the vortex profile with the LiDAR envelope.\n",
    "\n",
    "For this exercise, we use a Burnham-Hallock profile"
   ]
  },
  {
   "cell_type": "code",
   "execution_count": 12,
   "id": "constant-latitude",
   "metadata": {},
   "outputs": [],
   "source": [
    "r_max = 100\n",
    "r_min = -r_max\n",
    "r_step = set_lidar_resolution()\n",
    "\n",
    "total_circulation = 300\n",
    "core_radius = 4\n",
    "\n",
    "distance_from_core = np.arange(r_min, r_max+r_step, r_step)\n",
    "distance_from_core_model = np.arange(r_min, r_max+1, 0.5)\n",
    "\n",
    "velocity_lidar, Delta_r, Delta_V = generate_lidar_envelope(total_circulation, core_radius, distance_from_core)\n",
    "velocity_model = burnham_hallock(total_circulation, core_radius, distance_from_core_model)"
   ]
  },
  {
   "cell_type": "code",
   "execution_count": 13,
   "id": "perceived-posting",
   "metadata": {},
   "outputs": [
    {
     "data": {
      "image/png": "[encoded data removed]",
      "text/plain": [
       "<Figure size 720x576 with 1 Axes>"
      ]
     },
     "metadata": {
      "needs_background": "light"
     },
     "output_type": "display_data"
    }
   ],
   "source": [
    "%matplotlib inline\n",
    "\n",
    "y_max = int(max(velocity_lidar) / 2) * 2 + 4\n",
    "x_max = 50\n",
    "\n",
    "fig, ax = plt.subplots(figsize=(10, 8))\n",
    "\n",
    "xticks = np.arange(-x_max, x_max, 5)\n",
    "yticks = np.arange(-y_max, y_max, 2)\n",
    "\n",
    "plt.axhline(0, color='black', lw=0.5)\n",
    "plt.axvline(0, color='black', lw=0.5)\n",
    "plt.scatter([0],[0], color='red', label='vortex core')\n",
    "\n",
    "ax.scatter(distance_from_core, velocity_lidar, color='blue', label='LiDAR envelope')\n",
    "ax.plot(distance_from_core_model, velocity_model, color='green', label='model')\n",
    "\n",
    "ax.set(xlabel='distance from core (m)', ylabel='velocity (m/s)', title='Vortex profile')\n",
    "ax.set_xticks(xticks)\n",
    "ax.set_yticks(yticks)\n",
    "\n",
    "plt.xlim(-x_max, x_max)\n",
    "plt.ylim(-y_max, y_max)\n",
    "\n",
    "plt.grid(b=True)\n",
    "\n",
    "fig.savefig(\"./images/single_lidar_envelope.png\")\n",
    "plt.legend()\n",
    "plt.show()"
   ]
  },
  {
   "cell_type": "markdown",
   "id": "political-diamond",
   "metadata": {},
   "source": [
    "## Fitting of the LiDAR profile"
   ]
  },
  {
   "cell_type": "markdown",
   "id": "external-argentina",
   "metadata": {},
   "source": [
    "The current step consists in doing the other way: from the reconstructed LiDAR profile, we will fit the data to estimate the original vortex characteristics\n",
    "\n",
    "The adapted Burnham-Hallock model fitting the reconstructed data or the vortex profile data obtained from the LiDAR processing looks like:\n",
    "\n",
    "$V(r)=\\frac{\\Gamma}{2{\\pi}(r-\\Delta r_c)}\\frac{(r-\\Delta r_c)^2}{(r-\\Delta r_c)^2+r_c^2} + \\Delta V$ \n",
    "\n",
    "Therefore, there are 4 unknown for this equation:\n",
    "- $\\Gamma$, the total circulation of the vortex\n",
    "- $r_c$, the core radius of the vortex\n",
    "- $\\Delta r_c$, the shift in the direction of the r coordinate\n",
    "- $\\Delta V$, the velocity shift"
   ]
  },
  {
   "cell_type": "markdown",
   "id": "distant-belief",
   "metadata": {},
   "source": [
    "### First estimation of the velocity peaks\n",
    "The positions of the maximum and minimum velocity are read from the LiDAR profile."
   ]
  },
  {
   "cell_type": "code",
   "execution_count": 14,
   "id": "together-switzerland",
   "metadata": {},
   "outputs": [],
   "source": [
    "def get_min_max_index(velocity_lidar):\n",
    "    return np.argmin(velocity_lidar), np.argmax(velocity_lidar)"
   ]
  },
  {
   "cell_type": "code",
   "execution_count": 15,
   "id": "nutritional-roulette",
   "metadata": {},
   "outputs": [],
   "source": [
    "def get_min_max_radii(distance_from_core, velocity_lidar):\n",
    "    idx_min, idx_max = get_min_max_index(velocity_lidar)\n",
    "    return distance_from_core[idx_min], distance_from_core[idx_max]"
   ]
  },
  {
   "cell_type": "code",
   "execution_count": 16,
   "id": "eastern-boutique",
   "metadata": {},
   "outputs": [],
   "source": [
    "def get_min_max_velocity(velocity_lidar):\n",
    "    return np.min(velocity_lidar), np.max(velocity_lidar)"
   ]
  },
  {
   "cell_type": "markdown",
   "id": "european-senator",
   "metadata": {},
   "source": [
    "### Estimation of the mean velocities\n",
    "The mean velocity is the mean of the absolute velocity.\n",
    "\n",
    "Positive and negative mean velocities outside the vortex core are calculated separately."
   ]
  },
  {
   "cell_type": "code",
   "execution_count": 17,
   "id": "virtual-label",
   "metadata": {},
   "outputs": [],
   "source": [
    "def get_abs_mean_velocity(velocity_lidar):\n",
    "    return np.mean(np.abs(velocity_lidar))"
   ]
  },
  {
   "cell_type": "code",
   "execution_count": 18,
   "id": "reduced-greene",
   "metadata": {
    "scrolled": true
   },
   "outputs": [],
   "source": [
    "def get_neg_pos_mean_velocities(velocity_lidar):\n",
    "    idx_min, idx_max = get_min_max_index(velocity_lidar)\n",
    "    return np.mean(velocity_lidar[:idx_min+1]), np.mean(velocity_lidar[idx_max:])"
   ]
  },
  {
   "cell_type": "markdown",
   "id": "historic-translation",
   "metadata": {},
   "source": [
    "### Dismissing of outliers\n",
    "#### Noise - Cuf-off\n",
    "First, points far from the core are not to be separated from the noise. A cut-off is introduced under the following assumptions:\n",
    "- Only a small of points is measured around the core,\n",
    "- Their velocities are bigger than the noise,\n",
    "- In that case, the mean velocity is slighty bigger than the noise,\n",
    "- Every point under the mean velocity may therefore be considered as an outlier and has to be dismissed,\n",
    "- To avoid an early cut-off due to a single outlier, there must be at least 3 points in a row under the mean velocity to locate the cut-off position.\n",
    "- Points at the limit of the window are considered to be noise.\n",
    "- Points inside vortex core with velocity smaller than the mean velocity are also dismissed as noise.\n",
    "\n",
    "This method is used for positive and negative velocities separately."
   ]
  },
  {
   "cell_type": "code",
   "execution_count": 19,
   "id": "military-spectacular",
   "metadata": {},
   "outputs": [],
   "source": [
    "def selection_of_points(velocity_lidar):\n",
    "    v_neg_mean, v_pos_mean = get_neg_pos_mean_velocities(velocity_lidar)\n",
    "    idx_min, idx_max = get_min_max_index(velocity_lidar)\n",
    "    \n",
    "    selected_neg_points = (velocity_lidar <= v_neg_mean).astype(int)\\\n",
    "                        * (np.append((velocity_lidar[1:] <= v_neg_mean).astype(int), np.zeros(1))\\\n",
    "                         + np.append((velocity_lidar[2:] <= v_neg_mean).astype(int), np.zeros(2))\\\n",
    "                         + np.append((velocity_lidar[3:] <= v_neg_mean).astype(int), np.zeros(3)))\n",
    "    selected_pos_points = (velocity_lidar >= v_pos_mean).astype(int)\\\n",
    "                        * (np.append(np.zeros(1), (velocity_lidar[:-1] >= v_pos_mean).astype(int))\\\n",
    "                         + np.append(np.zeros(2), (velocity_lidar[:-2] >= v_pos_mean).astype(int))\\\n",
    "                         + np.append(np.zeros(3), (velocity_lidar[:-3] >= v_pos_mean).astype(int)))\n",
    "    \n",
    "    selected_core_points = np.concatenate((np.zeros(idx_min), \n",
    "                                           np.abs(velocity_lidar[idx_min:idx_max]) >= \n",
    "                                               0.5 * (v_pos_mean - v_neg_mean), \n",
    "                                           np.zeros(velocity_lidar.shape - idx_max)))\n",
    "    \n",
    "    return selected_neg_points + selected_pos_points + selected_core_points"
   ]
  },
  {
   "cell_type": "code",
   "execution_count": 20,
   "id": "buried-spell",
   "metadata": {},
   "outputs": [],
   "source": [
    "def dismiss_values_from_vectors(vector, selected_points, velocity_lidar):\n",
    "    idx_min, idx_max = get_min_max_index(velocity_lidar)\n",
    "    idx_core = np.where(selected_points[idx_min:idx_max] == 0)\n",
    "    \n",
    "    idx_start = np.where(selected_points[:idx_min] >= 2)[0][0]\n",
    "    idx_end = np.where(selected_points[idx_max:] >= 2)[0][-1] + idx_max\n",
    "\n",
    "    if idx_core[0].size == 0:\n",
    "        return vector[idx_start:idx_end+1]\n",
    "    \n",
    "    idx_core_min = idx_core[0][0] + idx_min\n",
    "    idx_core_max = idx_core[0][-1] + idx_min\n",
    "    \n",
    "    return np.concatenate((vector[idx_start:idx_core_min], vector[idx_core_max+1:idx_end+1]))"
   ]
  },
  {
   "cell_type": "code",
   "execution_count": 21,
   "id": "pacific-purse",
   "metadata": {},
   "outputs": [],
   "source": [
    "selected_points = selection_of_points(velocity_lidar)\n",
    "distance_for_fitting = dismiss_values_from_vectors(distance_from_core, selected_points, velocity_lidar)\n",
    "velocity_for_fitting = dismiss_values_from_vectors(velocity_lidar, selected_points, velocity_lidar)"
   ]
  },
  {
   "cell_type": "code",
   "execution_count": 22,
   "id": "environmental-messenger",
   "metadata": {},
   "outputs": [],
   "source": [
    "v_neg_mean, v_pos_mean = get_neg_pos_mean_velocities(velocity_lidar)"
   ]
  },
  {
   "cell_type": "code",
   "execution_count": 23,
   "id": "lasting-sender",
   "metadata": {},
   "outputs": [
    {
     "data": {
      "image/png": "[encoded data removed]",
      "text/plain": [
       "<Figure size 720x576 with 1 Axes>"
      ]
     },
     "metadata": {
      "needs_background": "light"
     },
     "output_type": "display_data"
    }
   ],
   "source": [
    "%matplotlib inline\n",
    "\n",
    "y_max = int(max(velocity_lidar) / 2) * 2 + 4\n",
    "x_max = 50\n",
    "\n",
    "fig, ax = plt.subplots(figsize=(10, 8))\n",
    "\n",
    "xticks = np.arange(-x_max, x_max, 5)\n",
    "yticks = np.arange(-y_max, y_max, 2)\n",
    "\n",
    "plt.axhline(0, color='black', lw=0.5)\n",
    "plt.axvline(0, color='black', lw=0.5)\n",
    "plt.scatter([0],[0], color='red', label='vortex core')\n",
    "\n",
    "ax.scatter(distance_from_core, velocity_lidar, color='blue', label='LiDAR envelope')\n",
    "ax.scatter(distance_for_fitting, velocity_for_fitting, marker='+', color='orange', \\\n",
    "           lw=2, label='selected points')\n",
    "ax.plot(distance_from_core_model, velocity_model, color='green', label='model')\n",
    "\n",
    "plt.axhline(v_neg_mean, color='orange', lw=1, ls='-.', label='cut-off lines')\n",
    "plt.axhline(v_pos_mean, color='orange', lw=1, ls='-.')\n",
    "\n",
    "ax.set(xlabel='distance from core (m)', ylabel='velocity (m/s)', title='Vortex profile')\n",
    "ax.set_xticks(xticks)\n",
    "ax.set_yticks(yticks)\n",
    "\n",
    "plt.xlim(-x_max, x_max)\n",
    "plt.ylim(-y_max, y_max)\n",
    "\n",
    "plt.grid(b=True)\n",
    "\n",
    "fig.savefig(\"./images/single_lidar_envelope_with_selected_points.png\")\n",
    "plt.legend()\n",
    "plt.show()"
   ]
  },
  {
   "cell_type": "markdown",
   "id": "comfortable-perfume",
   "metadata": {},
   "source": [
    "### Definition of the profile function"
   ]
  },
  {
   "cell_type": "code",
   "execution_count": 24,
   "id": "substantial-preview",
   "metadata": {},
   "outputs": [],
   "source": [
    "def modified_burnham_hallock(r, gamma, rc, delta_r, delta_V):\n",
    "    return gamma / (2 * pi) * (r - delta_r) / ( (r - delta_r )** 2 + rc**2) + delta_V"
   ]
  },
  {
   "cell_type": "markdown",
   "id": "solar-cookie",
   "metadata": {},
   "source": [
    "### Fit the LiDAR profile with a built-in function"
   ]
  },
  {
   "cell_type": "code",
   "execution_count": 25,
   "id": "honest-honolulu",
   "metadata": {},
   "outputs": [],
   "source": [
    "fitted_values, pcov = curve_fit(modified_burnham_hallock, \n",
    "                                distance_for_fitting, \n",
    "                                velocity_for_fitting, \n",
    "                                p0 = [100,1,0,0])"
   ]
  },
  {
   "cell_type": "markdown",
   "id": "loose-fifty",
   "metadata": {},
   "source": [
    "#### Comparison of results with initial data"
   ]
  },
  {
   "cell_type": "code",
   "execution_count": 26,
   "id": "union-burning",
   "metadata": {},
   "outputs": [],
   "source": [
    "original_values = [total_circulation, core_radius, Delta_r, Delta_V]\n",
    "\n",
    "comparison_table = pd.DataFrame({'Original': original_values, 'Fit': fitted_values, \n",
    "                                 'Error': original_values - fitted_values,\n",
    "                                 'Rel. error': 100 * (original_values - fitted_values) / original_values},\n",
    "                                index=['Total circulation', 'Core radius', 'Delta_r', 'Delta_V'])"
   ]
  },
  {
   "cell_type": "code",
   "execution_count": 27,
   "id": "valuable-sample",
   "metadata": {},
   "outputs": [
    {
     "data": {
      "text/html": [
       "<div>\n",
       "<style scoped>\n",
       "    .dataframe tbody tr th:only-of-type {\n",
       "        vertical-align: middle;\n",
       "    }\n",
       "\n",
       "    .dataframe tbody tr th {\n",
       "        vertical-align: top;\n",
       "    }\n",
       "\n",
       "    .dataframe thead th {\n",
       "        text-align: right;\n",
       "    }\n",
       "</style>\n",
       "<table border=\"1\" class=\"dataframe\">\n",
       "  <thead>\n",
       "    <tr style=\"text-align: right;\">\n",
       "      <th></th>\n",
       "      <th>Original</th>\n",
       "      <th>Fit</th>\n",
       "      <th>Error</th>\n",
       "      <th>Rel. error</th>\n",
       "    </tr>\n",
       "  </thead>\n",
       "  <tbody>\n",
       "    <tr>\n",
       "      <th>Total circulation</th>\n",
       "      <td>300.00</td>\n",
       "      <td>299.96</td>\n",
       "      <td>0.04</td>\n",
       "      <td>0.01</td>\n",
       "    </tr>\n",
       "    <tr>\n",
       "      <th>Core radius</th>\n",
       "      <td>4.00</td>\n",
       "      <td>4.02</td>\n",
       "      <td>-0.02</td>\n",
       "      <td>-0.38</td>\n",
       "    </tr>\n",
       "    <tr>\n",
       "      <th>Delta_r</th>\n",
       "      <td>-0.29</td>\n",
       "      <td>-0.09</td>\n",
       "      <td>-0.21</td>\n",
       "      <td>70.53</td>\n",
       "    </tr>\n",
       "    <tr>\n",
       "      <th>Delta_V</th>\n",
       "      <td>-0.04</td>\n",
       "      <td>-0.11</td>\n",
       "      <td>0.07</td>\n",
       "      <td>-165.02</td>\n",
       "    </tr>\n",
       "  </tbody>\n",
       "</table>\n",
       "</div>"
      ],
      "text/plain": [
       "                   Original     Fit  Error  Rel. error\n",
       "Total circulation    300.00  299.96   0.04        0.01\n",
       "Core radius            4.00    4.02  -0.02       -0.38\n",
       "Delta_r               -0.29   -0.09  -0.21       70.53\n",
       "Delta_V               -0.04   -0.11   0.07     -165.02"
      ]
     },
     "execution_count": 27,
     "metadata": {},
     "output_type": "execute_result"
    }
   ],
   "source": [
    "comparison_table.round(2)"
   ]
  },
  {
   "cell_type": "markdown",
   "id": "nominated-edgar",
   "metadata": {},
   "source": [
    "Based on these original values, core radius and total circulation are well estimated."
   ]
  },
  {
   "cell_type": "code",
   "execution_count": 28,
   "id": "empirical-australian",
   "metadata": {},
   "outputs": [
    {
     "data": {
      "text/plain": [
       "0.08835417189558493"
      ]
     },
     "execution_count": 28,
     "metadata": {},
     "output_type": "execute_result"
    }
   ],
   "source": [
    "velocity_from_fitting = modified_burnham_hallock(distance_for_fitting, \n",
    "                                                 total_circulation, \n",
    "                                                 core_radius, \n",
    "                                                 Delta_r, Delta_V)\n",
    "\n",
    "mean_squared_error(velocity_for_fitting, velocity_from_fitting) "
   ]
  },
  {
   "cell_type": "code",
   "execution_count": 29,
   "id": "blank-editor",
   "metadata": {},
   "outputs": [],
   "source": [
    "velocity_from_fitting = modified_burnham_hallock(distance_from_core_model, \n",
    "                                                 total_circulation, \n",
    "                                                 core_radius, \n",
    "                                                 Delta_r, Delta_V)"
   ]
  },
  {
   "cell_type": "code",
   "execution_count": 30,
   "id": "twenty-retention",
   "metadata": {},
   "outputs": [
    {
     "data": {
      "image/png": "[encoded data removed]",
      "text/plain": [
       "<Figure size 720x576 with 1 Axes>"
      ]
     },
     "metadata": {
      "needs_background": "light"
     },
     "output_type": "display_data"
    }
   ],
   "source": [
    "%matplotlib inline\n",
    "\n",
    "y_max = int(max(velocity_lidar) / 2) * 2 + 4\n",
    "x_max = 50\n",
    "\n",
    "fig, ax = plt.subplots(figsize=(10, 8))\n",
    "\n",
    "xticks = np.arange(-x_max, x_max, 5)\n",
    "yticks = np.arange(-y_max, y_max, 2)\n",
    "\n",
    "plt.axhline(0, color='black', lw=0.5)\n",
    "plt.axvline(0, color='black', lw=0.5)\n",
    "plt.scatter([0],[0], color='red', label='vortex core')\n",
    "\n",
    "ax.scatter(distance_from_core, velocity_lidar, color='blue', label='LiDAR envelope')\n",
    "ax.scatter(distance_for_fitting, velocity_for_fitting, marker='+', color='orange', \\\n",
    "           lw=2, label='selected points')\n",
    "ax.plot(distance_from_core_model, velocity_model, color='green', label='model')\n",
    "ax.plot(distance_from_core_model, velocity_from_fitting, color='green', ls='--', label='fit')\n",
    "\n",
    "plt.axhline(v_neg_mean, color='orange', lw=1, ls='-.', label='cut-off lines')\n",
    "plt.axhline(v_pos_mean, color='orange', lw=1, ls='-.')\n",
    "\n",
    "ax.set(xlabel='distance from core (m)', ylabel='velocity (m/s)', title='Vortex profile')\n",
    "ax.set_xticks(xticks)\n",
    "ax.set_yticks(yticks)\n",
    "\n",
    "plt.xlim(-x_max, x_max)\n",
    "plt.ylim(-y_max, y_max)\n",
    "\n",
    "plt.grid(b=True)\n",
    "\n",
    "fig.savefig(\"./images/single_lidar_envelope_with_fit.png\")\n",
    "plt.legend()\n",
    "plt.show()"
   ]
  },
  {
   "cell_type": "code",
   "execution_count": null,
   "id": "bound-african",
   "metadata": {},
   "outputs": [],
   "source": []
  }
 ],
 "metadata": {
  "kernelspec": {
   "display_name": "Python 3",
   "language": "python",
   "name": "python3"
  },
  "language_info": {
   "codemirror_mode": {
    "name": "ipython",
    "version": 3
   },
   "file_extension": ".py",
   "mimetype": "text/x-python",
   "name": "python",
   "nbconvert_exporter": "python",
   "pygments_lexer": "ipython3",
   "version": "3.8.8"
  }
 },
 "nbformat": 4,
 "nbformat_minor": 5
}
