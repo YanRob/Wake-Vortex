{
 "cells": [
  {
   "cell_type": "markdown",
   "id": "consolidated-stylus",
   "metadata": {},
   "source": [
    "This Jupyter notebook aims to show:\n",
    "\n",
    "- how aircraft wake vortices are modelled,\n",
    "- how to analyse and fit vortex profiles obtained from LiDAR measurement during flights tests,\n",
    "- how to calculate vortex characteristics such as their size (core radius) and strength (circulation)"
   ]
  },
  {
   "cell_type": "markdown",
   "id": "going-reverse",
   "metadata": {},
   "source": [
    "### Import the required libraries"
   ]
  },
  {
   "cell_type": "code",
   "execution_count": 1,
   "id": "handed-spectacular",
   "metadata": {},
   "outputs": [],
   "source": [
    "import random\n",
    "from math import pi, sqrt\n",
    "\n",
    "import matplotlib\n",
    "import matplotlib.pyplot as plt\n",
    "import numpy as np\n",
    "import pandas as pd\n",
    "\n",
    "from scipy.optimize import curve_fit\n",
    "import scipy.integrate as integrate\n",
    "\n",
    "from sklearn.metrics import mean_squared_error"
   ]
  },
  {
   "cell_type": "markdown",
   "id": "italian-brick",
   "metadata": {},
   "source": [
    "# Vortex models"
   ]
  },
  {
   "cell_type": "markdown",
   "id": "purple-confusion",
   "metadata": {},
   "source": [
    "Below some 2D vortex models are presented"
   ]
  },
  {
   "cell_type": "markdown",
   "id": "opposed-width",
   "metadata": {},
   "source": [
    "## Lamb-Oseen model\n",
    "\n",
    "https://en.wikipedia.org/wiki/Lamb%E2%80%93Oseen_vortex\n",
    "\n",
    "Here, we are interested in the form of the Lamb-Oseen model for wake vortices:\n",
    "\n",
    "$V(r) = \\frac{\\Gamma} {2 {\\pi}} (1 - exp(-1.256\\frac{r^2}{r_c^2}))$\n",
    "\n",
    "where:\n",
    "\n",
    "- ${\\Gamma}$ is the circulation\n",
    "- ${r}$ is the distance from the vortex center or radial distance\n",
    "- ${r_c}$ is the mean vortex core radius, i.e. the half of distance between velocity peaks\n",
    "- ${V(r)}$ is the tangential velocity a r"
   ]
  },
  {
   "cell_type": "code",
   "execution_count": 2,
   "id": "reduced-puzzle",
   "metadata": {},
   "outputs": [],
   "source": [
    "def lamb_oseen(r, gamma, rc):\n",
    "    \"\"\"\n",
    "    r: radial distance in m\n",
    "    gamma: circulation in m^2/s\n",
    "    rc: core_radius in m\n",
    "    ---\n",
    "    returns the tangential velocity as a function of radial distance\n",
    "    \"\"\"\n",
    "    # Small manipulation to avoid the case r = 0\n",
    "    r_new = (r == 0).astype(int) / 1000 + r\n",
    "    return gamma / (2 * pi * r_new) * (1 - np.exp( - 1.256 * r ** 2 / rc ** 2))"
   ]
  },
  {
   "cell_type": "markdown",
   "id": "dramatic-platform",
   "metadata": {},
   "source": [
    "## Rankine model"
   ]
  },
  {
   "cell_type": "markdown",
   "id": "handled-shark",
   "metadata": {},
   "source": [
    "https://en.wikipedia.org/wiki/Rankine_vortex\n",
    "\n",
    "The drawback the rankine model is its non-linearity.\n",
    "\n",
    "$V(r) = \\frac{\\Gamma r}{2 {\\pi} r_c^2}$ for $r \\le r_c$\n",
    "\n",
    "$V(r) = \\frac{\\Gamma}{2 {\\pi} r}$ for $r > r_c$\n",
    "\n",
    "where:\n",
    "\n",
    "- ${\\Gamma}$ is the circulation\n",
    "- ${r}$ is the distance from the vortex center or radial distance\n",
    "- ${r_c}$ is the mean vortex core size, i.e. the half of distance between velocity peaks\n",
    "- ${V(r)}$ is the tangential velocity a r"
   ]
  },
  {
   "cell_type": "code",
   "execution_count": 3,
   "id": "international-split",
   "metadata": {},
   "outputs": [],
   "source": [
    "def rankine(r, gamma, rc):\n",
    "    \"\"\"\n",
    "    r: radial distance in m\n",
    "    gamma: circulation in m^2/s\n",
    "    rc: core_radius in m\n",
    "    ---\n",
    "    returns the tangential velocity as a function of radial distance\n",
    "    \"\"\"\n",
    "    # Velocity inside the vortex core\n",
    "    internal_V = (abs(r) <= rc).astype(int) * gamma * r /( 2 * pi * rc**2)\n",
    "    \n",
    "    # Small manipulation to avoid the case r = 0 \n",
    "    r_new = (r == 0).astype(int) / 1000 + r\n",
    "\n",
    "    # Velocity outside the vortex core\n",
    "    external_V = (abs(r) > rc).astype(int) * gamma / (2 * pi * r_new)\n",
    "    \n",
    "    return internal_V + external_V"
   ]
  },
  {
   "cell_type": "markdown",
   "id": "frank-chart",
   "metadata": {},
   "source": [
    "## Burnham-Hallock model"
   ]
  },
  {
   "cell_type": "markdown",
   "id": "checked-thompson",
   "metadata": {},
   "source": [
    "The Burnham-Hallock model is widely used to model aircraft wake vortices.\n",
    "\n",
    "$V(r)=\\frac{\\Gamma}{2{\\pi}r}\\frac{r^2}{r^2+r_c^2}$\n",
    "\n",
    "where:\n",
    "\n",
    "- ${\\Gamma}$ is the circulation\n",
    "- ${r}$ is the distance from the vortex center or radial distance\n",
    "- ${r_c}$ is the mean vortex core radius, i.e. the half of distance between velocity peaks\n",
    "- ${V(r)}$ is the tangential velocity a r"
   ]
  },
  {
   "cell_type": "code",
   "execution_count": 4,
   "id": "aging-sixth",
   "metadata": {},
   "outputs": [],
   "source": [
    "def burnham_hallock(r, gamma, rc):\n",
    "    \"\"\"\n",
    "    r: radial distance in m\n",
    "    gamma: circulation in m^2/s\n",
    "    rc: core_radius in m\n",
    "    ---\n",
    "    returns the tangential velocity as a function of radial distance\n",
    "    \"\"\"\n",
    "    return gamma / (2 * pi) * r / (r ** 2 + rc ** 2)"
   ]
  },
  {
   "cell_type": "markdown",
   "id": "consistent-remark",
   "metadata": {},
   "source": [
    "## Comparison of the models"
   ]
  },
  {
   "cell_type": "markdown",
   "id": "standard-stockholm",
   "metadata": {},
   "source": [
    "Let's define a vortex with **300** m^2/s circulation and a core radius of **4** m between -20m and 20m and plot the vortex profile"
   ]
  },
  {
   "cell_type": "code",
   "execution_count": 5,
   "id": "worth-familiar",
   "metadata": {},
   "outputs": [],
   "source": [
    "r_max = 20\n",
    "r_min = -r_max\n",
    "r_step = 0.5\n",
    "\n",
    "circulation = 300\n",
    "core_radius = 4\n",
    "\n",
    "radial_distance = np.arange(r_min, r_max+r_step, r_step)\n",
    "\n",
    "# Lamb Oseen Profile\n",
    "velocity_lo = lamb_oseen(radial_distance, circulation, core_radius)\n",
    "\n",
    "# Rankine Profile\n",
    "velocity_ra = rankine(radial_distance, circulation, core_radius)\n",
    "\n",
    "# Burnham-Hallock Profile\n",
    "velocity_bh = burnham_hallock(radial_distance, circulation, core_radius)"
   ]
  },
  {
   "cell_type": "code",
   "execution_count": 6,
   "id": "molecular-auditor",
   "metadata": {},
   "outputs": [
    {
     "data": {
      "image/png": "[encoded data removed]",
      "text/plain": [
       "<Figure size 720x576 with 1 Axes>"
      ]
     },
     "metadata": {
      "needs_background": "light"
     },
     "output_type": "display_data"
    }
   ],
   "source": [
    "%matplotlib inline\n",
    "\n",
    "y_max = int(max(np.max(velocity_lo), np.max(velocity_ra), np.max(velocity_bh)) / 2) * 2 + 4\n",
    "x_max = r_max\n",
    "\n",
    "fig, ax = plt.subplots(figsize=(10, 8))\n",
    "\n",
    "xticks = np.arange(-x_max, x_max, 2)\n",
    "yticks = np.arange(-y_max, y_max, 2)\n",
    "\n",
    "plt.axhline(0, color='black', lw=0.5)\n",
    "plt.axvline(0, color='black', lw=0.5)\n",
    "plt.scatter([0],[0], color='red', label='vortex center')\n",
    "\n",
    "ax.plot(radial_distance, velocity_lo, color='blue', label='Lamb-Oseen')\n",
    "ax.plot(radial_distance, velocity_ra, color='green', label='Rankine')\n",
    "ax.plot(radial_distance, velocity_bh, color='magenta', label='Burnham-Hallock')\n",
    "\n",
    "ax.set(xlabel='distance from vortex center (m)', ylabel='tangential velocity (m/s)', title='Vortex profile')\n",
    "ax.set_xticks(xticks)\n",
    "ax.set_yticks(yticks)\n",
    "\n",
    "plt.xlim(-x_max, x_max)\n",
    "plt.ylim(-y_max, y_max)\n",
    "\n",
    "plt.grid(b=True)\n",
    "\n",
    "fig.savefig(\"./images/comparison_of_vortex_profiles.png\")\n",
    "plt.legend()\n",
    "plt.show()"
   ]
  },
  {
   "cell_type": "markdown",
   "id": "physical-volume",
   "metadata": {},
   "source": [
    "# Analysis of LiDAR measurements - single vortex"
   ]
  },
  {
   "cell_type": "markdown",
   "id": "matched-techno",
   "metadata": {},
   "source": [
    "## Re-construction of a LiDAR envelope"
   ]
  },
  {
   "cell_type": "markdown",
   "id": "direct-tension",
   "metadata": {},
   "source": [
    "The analysis of aircraft wake vortices is made using data provided by post-processed LiDAR data from flight test measurements. These data consist of envelopes of the measured tangential velocity as a function of the radial distance (distance from the position of the vortex center).\n",
    "\n",
    "Because I don't have any data of this kind (for obvious confidentiality reasons), these data need to be re-constructed. \n",
    "\n",
    "To make the data more realistic, following additional parameters must be added to the model equations:\n",
    "\n",
    "- random background noise\n",
    "- random radial shift $\\Delta r_c$\n",
    "- random tangential velocity shift $\\Delta V$\n",
    "- random error around the calculted profile $\\delta \\epsilon_V$\n",
    "\n",
    "The measurements are discrete, that means, that we obtained points on the velocity profile at a regular interval, the so-called LiDAR resolution."
   ]
  },
  {
   "cell_type": "code",
   "execution_count": 7,
   "id": "upper-mandate",
   "metadata": {},
   "outputs": [],
   "source": [
    "def add_noise_to_envelope(velocity):\n",
    "    \"\"\"\n",
    "    velocity: velocity profile (envelope) as a numpy array\n",
    "    ---\n",
    "    Add noise to the envelope.\n",
    "    Noise is assumed to be 2 m/s\n",
    "    The envelope is crossing the axis y = 0 (tangential velocity = 0) only in the core\n",
    "    \"\"\"\n",
    "    noise = np.random.normal(1, 0.25, velocity.shape) * np.sign(velocity)\n",
    "    return np.maximum(np.abs(velocity), noise) * np.sign(velocity)"
   ]
  },
  {
   "cell_type": "code",
   "execution_count": 8,
   "id": "measured-acceptance",
   "metadata": {},
   "outputs": [],
   "source": [
    "def add_shift():\n",
    "    \"\"\"\n",
    "    Returns two random numbers for radial and velocity shift\n",
    "    \"\"\"\n",
    "    return random.gauss(0, 0.25), random.gauss(0, 0.25)"
   ]
  },
  {
   "cell_type": "code",
   "execution_count": 9,
   "id": "crude-screening",
   "metadata": {},
   "outputs": [],
   "source": [
    "def add_random_error(velocity):\n",
    "    \"\"\"\n",
    "    velocity: velocity profile (envelope) as a numpy array\n",
    "    ---\n",
    "    Add random error to the velocity profile\n",
    "    An error of +/- 0.5 m/s is added to the profile\n",
    "    \"\"\"\n",
    "    return velocity + np.random.normal(0, 0.25, velocity.shape)"
   ]
  },
  {
   "cell_type": "code",
   "execution_count": 10,
   "id": "present-stanford",
   "metadata": {},
   "outputs": [],
   "source": [
    "def generate_lidar_envelope(r, Gamma, rc, model=burnham_hallock):\n",
    "    \"\"\"\n",
    "    r: radial distance in m\n",
    "    gamma: circulation in m^2/s\n",
    "    rc: core_radius in m\n",
    "    model: vortex model among burnham-hallock, lamb_oseen and rankine\n",
    "    ---\n",
    "    Return the full vortex profile including noise, shifts and error\n",
    "    \"\"\"\n",
    "    Delta_r, Delta_V = add_shift()\n",
    "    \n",
    "    # radial shift\n",
    "    r -= Delta_r\n",
    "    \n",
    "    # Velocity profile\n",
    "    velocity_profile = model(r, Gamma, rc)\n",
    "    \n",
    "    # add the noise\n",
    "    velocity_profile = add_noise_to_envelope(velocity_profile)\n",
    "    \n",
    "    # add the random_error\n",
    "    velocity_profile = add_random_error(velocity_profile)\n",
    "    \n",
    "    # Add tangential velocity shift\n",
    "    return velocity_profile + Delta_V, Delta_r, Delta_V"
   ]
  },
  {
   "cell_type": "code",
   "execution_count": 11,
   "id": "advanced-scotland",
   "metadata": {},
   "outputs": [],
   "source": [
    "def set_lidar_resolution():\n",
    "    \"\"\"\n",
    "    Return the lidar resolution, i.e. the average radial distance between two data points\n",
    "    \"\"\"\n",
    "    return random.uniform(1, 3)"
   ]
  },
  {
   "cell_type": "markdown",
   "id": "pleasant-elite",
   "metadata": {},
   "source": [
    "Let's define a vortex with **300** m^2/s circulation and a core radius of **3** m between -100m and 100m and plot the vortex profile with the LiDAR envelope.\n",
    "\n",
    "For this exercise, we use a Burnham-Hallock profile."
   ]
  },
  {
   "cell_type": "code",
   "execution_count": 12,
   "id": "indie-boxing",
   "metadata": {},
   "outputs": [],
   "source": [
    "r_max = 100\n",
    "r_min = -r_max\n",
    "r_step = set_lidar_resolution()\n",
    "\n",
    "circulation = 300\n",
    "core_radius = 4\n",
    "\n",
    "radial_distance = np.arange(r_min, r_max+r_step, r_step)\n",
    "radial_distance_model = np.arange(r_min, r_max+1, 0.5)\n",
    "\n",
    "velocity_lidar, Delta_r, Delta_V = generate_lidar_envelope(radial_distance, circulation, core_radius)\n",
    "velocity_model = burnham_hallock(radial_distance_model, circulation, core_radius)"
   ]
  },
  {
   "cell_type": "code",
   "execution_count": 13,
   "id": "mexican-ferry",
   "metadata": {},
   "outputs": [
    {
     "data": {
      "image/png": "[encoded data removed]",
      "text/plain": [
       "<Figure size 720x576 with 1 Axes>"
      ]
     },
     "metadata": {
      "needs_background": "light"
     },
     "output_type": "display_data"
    }
   ],
   "source": [
    "%matplotlib inline\n",
    "\n",
    "y_max = int(max(velocity_lidar) / 2) * 2 + 4\n",
    "x_max = 50\n",
    "\n",
    "fig, ax = plt.subplots(figsize=(10, 8))\n",
    "\n",
    "xticks = np.arange(-x_max, x_max, 5)\n",
    "yticks = np.arange(-y_max, y_max, 2)\n",
    "\n",
    "plt.axhline(0, color='black', lw=0.5)\n",
    "plt.axvline(0, color='black', lw=0.5)\n",
    "plt.scatter([0],[0], color='red', label='vortex center')\n",
    "\n",
    "ax.scatter(radial_distance, velocity_lidar, color='blue', label='Re-constructed LiDAR envelope')\n",
    "ax.plot(radial_distance_model, velocity_model, color='green', label='model')\n",
    "\n",
    "ax.set(xlabel='distance from vortex center (m)', ylabel='velocity (m/s)', title='Vortex profile')\n",
    "ax.set_xticks(xticks)\n",
    "ax.set_yticks(yticks)\n",
    "\n",
    "plt.xlim(-x_max, x_max)\n",
    "plt.ylim(-y_max, y_max)\n",
    "\n",
    "plt.grid(b=True)\n",
    "\n",
    "fig.savefig(\"./images/single_lidar_envelope.png\")\n",
    "plt.legend()\n",
    "plt.show()"
   ]
  },
  {
   "cell_type": "markdown",
   "id": "suspected-dinner",
   "metadata": {},
   "source": [
    "## Fitting the LiDAR profile"
   ]
  },
  {
   "cell_type": "markdown",
   "id": "sporting-beauty",
   "metadata": {},
   "source": [
    "The current step consists in doing the other way: from the reconstructed LiDAR profile, the data will be fitted to estimate the original vortex characteristics\n",
    "\n",
    "The adapted Burnham-Hallock model fitting the reconstructed data or the vortex profile data obtained from the LiDAR processing looks like:\n",
    "\n",
    "$V(r)=\\frac{\\Gamma}{2{\\pi}(r-\\Delta r_c)}\\frac{(r-\\Delta r_c)^2}{(r-\\Delta r_c)^2+r_c^2} + \\Delta V$ \n",
    "\n",
    "Therefore, there are 4 unknown for this equation:\n",
    "\n",
    "- $\\Gamma$, the circulation of the vortex\n",
    "- $r_c$, the core radius of the vortex\n",
    "- $\\Delta r_c$, the radial shift\n",
    "- $\\Delta V$, the velocity shift"
   ]
  },
  {
   "cell_type": "markdown",
   "id": "billion-insider",
   "metadata": {},
   "source": [
    "### Modified Burnham-Hallock model"
   ]
  },
  {
   "cell_type": "code",
   "execution_count": 14,
   "id": "opened-shooting",
   "metadata": {},
   "outputs": [],
   "source": [
    "def modified_burnham_hallock(r, gamma, rc, delta_r, delta_V):\n",
    "    \"\"\"\n",
    "    gamma: circulation in m^2/s\n",
    "    rc: core_radius in m\n",
    "    r: radial distance in m\n",
    "    delta_r: radial shift in m\n",
    "    delta_V: tangential velocity shift in m/s\n",
    "    ---\n",
    "    Returns the tangential velocity as a function of the radial distance\n",
    "    \"\"\"\n",
    "    return gamma / (2 * pi) * (r - delta_r) / ( (r - delta_r )** 2 + rc**2) + delta_V"
   ]
  },
  {
   "cell_type": "markdown",
   "id": "former-canberra",
   "metadata": {},
   "source": [
    "### Position of Velocity peaks\n",
    "The positions of the velocity peaks are read from the LiDAR profile."
   ]
  },
  {
   "cell_type": "code",
   "execution_count": 15,
   "id": "circular-portland",
   "metadata": {},
   "outputs": [],
   "source": [
    "def get_min_max_index(velocity):\n",
    "    \"\"\"\n",
    "    velocity: velocity profile (envelope) as a numpy array\n",
    "    ---\n",
    "    Returns the indices of the peak of velocities\n",
    "    \"\"\"\n",
    "    return np.argmin(velocity), np.argmax(velocity)"
   ]
  },
  {
   "cell_type": "code",
   "execution_count": 16,
   "id": "ranking-brook",
   "metadata": {},
   "outputs": [],
   "source": [
    "def get_min_max_radii(radial_distance, velocity):\n",
    "    \"\"\"\n",
    "    velocity: velocity profile (envelope) as a numpy array\n",
    "    ---\n",
    "    Return the distance from the vortex center for the peak of velocities\n",
    "    \"\"\"\n",
    "    # Indices of both velocity peaks\n",
    "    idx_min, idx_max = get_min_max_index(velocity)\n",
    "    \n",
    "    return radial_distance[idx_min], radial_distance[idx_max]"
   ]
  },
  {
   "cell_type": "code",
   "execution_count": 17,
   "id": "established-forty",
   "metadata": {},
   "outputs": [],
   "source": [
    "def get_min_max_velocity(velocity):\n",
    "    \"\"\"\n",
    "    velocity: velocity profile (envelope) as a numpy array\n",
    "    ---\n",
    "    Return the values of the peak velocities\n",
    "    \"\"\"\n",
    "    return np.min(velocity), np.max(velocity)"
   ]
  },
  {
   "cell_type": "markdown",
   "id": "approximate-growth",
   "metadata": {},
   "source": [
    "### Mean tangential velocities\n",
    "The mean tangential velocity is the mean of the absolute velocity.\n",
    "\n",
    "Positive and negative mean tangential velocities outside the vortex core are calculated separately."
   ]
  },
  {
   "cell_type": "code",
   "execution_count": 18,
   "id": "approved-increase",
   "metadata": {},
   "outputs": [],
   "source": [
    "def get_abs_mean_velocity(velocity):\n",
    "    \"\"\"\n",
    "    velocity: velocity profile (envelope) as a numpy array\n",
    "    ---\n",
    "    Returns the average of absolute tangential velocities of the vortex profile\n",
    "    \"\"\"\n",
    "    return np.mean(np.abs(velocity))"
   ]
  },
  {
   "cell_type": "code",
   "execution_count": 19,
   "id": "overall-trainer",
   "metadata": {},
   "outputs": [],
   "source": [
    "def get_neg_pos_mean_velocities(velocity):\n",
    "    \"\"\"\n",
    "    velocity: velocity profile (envelope) as a numpy array\n",
    "    ---\n",
    "    Return the average of tangential velocities of the negative and positive vortex sides separately\n",
    "    \"\"\"\n",
    "    # Indices of both velocity peaks\n",
    "    idx_min, idx_max = get_min_max_index(velocity)\n",
    "    \n",
    "    return np.mean(velocity[:idx_min+1]), np.mean(velocity[idx_max:])"
   ]
  },
  {
   "cell_type": "markdown",
   "id": "adjacent-hampton",
   "metadata": {},
   "source": [
    "### Removal of outliers / noise\n",
    "#### Noise - Cuf-off\n",
    "\n",
    "\n",
    "Points far from the core are not to be separated from the noise. A cut-off is introduced under the following assumptions:\n",
    "\n",
    "- Only a relatively small number of points is measured around the core,\n",
    "- Their tangential velocities are bigger than the noise,\n",
    "- In that case, the mean tangential velocity is slighty bigger than the envelope of the noise,\n",
    "- Every point under the mean velocity may therefore be considered as noise and will be removed,\n",
    "- To avoid an early cut-off due to a single outlier, there must be at least 3 points in a row under the mean velocity to locate the cut-off position.\n",
    "- Points at the limit of the window are considered to be noise.\n",
    "\n",
    "Points inside the vortex core with tangential velocity smaller than the mean velocity are also removed as noise.\n",
    "\n",
    "This method is used for positive and negative velocities separately."
   ]
  },
  {
   "cell_type": "code",
   "execution_count": 20,
   "id": "stopped-breeding",
   "metadata": {},
   "outputs": [],
   "source": [
    "def count_points_outside_noise(velocity):\n",
    "    \"\"\"\n",
    "    velocity: velocity profile (envelope) as a numpy array\n",
    "    ---\n",
    "    For every point on the profile, counts the number of neighbour points, i.e. the previous and following \n",
    "    points as well as the point itself, with tangential velocity above noise.\n",
    "    A non-zero value means that at least one of these points has a tangential velocity above noise.\n",
    "    A zero value means that all these three points belongs to the noise, i.e. their tangential \n",
    "    velocity is below the noise.\n",
    "    Exception is done by points inside vortex core, where only the point itself without its neighbours is \n",
    "    taken into account.\n",
    "    \n",
    "    Returns a numpy array with the number of direct neighbour points with tangential velocity above noise\n",
    "    \"\"\"\n",
    "    # negative and positive mean tangential velocities for cut-off, i.e. noise envelope\n",
    "    v_neg_mean, v_pos_mean = get_neg_pos_mean_velocities(velocity)\n",
    "    \n",
    "    # Indices of both velocity peaks\n",
    "    idx_min, idx_max = get_min_max_index(velocity)\n",
    "    \n",
    "    # negative envelope : gives 0 when the previous and following points have a smaller \n",
    "    #                     absolute tangential velocity than the noise\n",
    "    negative_points = np.append(np.zeros(1), [(velocity[i-1] <= v_neg_mean).astype(int) +\n",
    "                                              (velocity[i] <= v_neg_mean).astype(int) + \n",
    "                                              (velocity[i+1] <= v_neg_mean).astype(int) \n",
    "                                              for i in range(1, len(velocity)-1)])\n",
    "    negative_points = np.append(negative_points, np.zeros(1))\n",
    "    \n",
    "    # positive envelope : gives 0 when the previous and following points have a smaller \n",
    "    #                     tangential velocity than the noise\n",
    "    positive_points = np.append(np.zeros(1), [(velocity[i-1] >= v_pos_mean).astype(int) +\n",
    "                                              (velocity[i] >= v_pos_mean).astype(int) + \n",
    "                                              (velocity[i+1] >= v_pos_mean).astype(int) \n",
    "                                              for i in range(1, len(velocity)-1)])\n",
    "    positive_points = np.append(positive_points, np.zeros(1))\n",
    "    \n",
    "    # points in the vortex core : gives 0 when the tangential velocity is smaller than the noise\n",
    "    core_points = np.concatenate((np.ones(idx_min), \n",
    "                                  np.abs(velocity[idx_min:idx_max]) >= \n",
    "                                         0.5 * (v_pos_mean - v_neg_mean), \n",
    "                                                np.ones(velocity.shape - idx_max)))\n",
    "    \n",
    "    return (negative_points + positive_points) * core_points"
   ]
  },
  {
   "cell_type": "code",
   "execution_count": 21,
   "id": "stone-coupon",
   "metadata": {},
   "outputs": [],
   "source": [
    "def remove_values_from_profile(vector, points, velocity):\n",
    "    \"\"\"\n",
    "    vector: numpy array containing the velocity profile or radial distance\n",
    "    points: numpy array containing for every point, the number of direct neighbours with tangential velocity\n",
    "            above noise.\n",
    "    velocity: velocity profile (envelope) as a numpy array\n",
    "    ---\n",
    "    Returns a reduced vector containing only selected data points used for the fitting\n",
    "    \"\"\"\n",
    "    # Indices of min. ann max. tangential velocity\n",
    "    idx_min, idx_max = get_min_max_index(velocity)\n",
    "    \n",
    "    # Index of points inside the core to be removed of the profile\n",
    "    idx_core = np.where(points[idx_min:idx_max] == 0)\n",
    "    \n",
    "    # Index of the closest point to the negative velocity peak where the number of neighbour points\n",
    "    # with tangential velocity below noise is 0\n",
    "    idx_start = np.where(points[:idx_min] == 0)[0][-1]\n",
    "\n",
    "    # Index of the closest point to the positive velocity peak where the number of neighbour points\n",
    "    # with tangential velocity below noise is 0\n",
    "    idx_end = np.where(points[idx_max:] == 0)[0][0] + idx_max\n",
    "\n",
    "    # No points inside the core are removed\n",
    "    if idx_core[0].size == 0:\n",
    "        return vector[idx_start:idx_end+1]\n",
    "    \n",
    "    # Indices of the core points to be removed\n",
    "    idx_core_min = idx_core[0][0] + idx_min\n",
    "    idx_core_max = idx_core[0][-1] + idx_min\n",
    "    \n",
    "    return np.concatenate((vector[idx_start:idx_core_min], vector[idx_core_max+1:idx_end+1]))"
   ]
  },
  {
   "cell_type": "code",
   "execution_count": 22,
   "id": "studied-milton",
   "metadata": {},
   "outputs": [],
   "source": [
    "counted_points = count_points_outside_noise(velocity_lidar)\n",
    "distance_for_fitting = remove_values_from_profile(radial_distance, counted_points, velocity_lidar)\n",
    "velocity_for_fitting = remove_values_from_profile(velocity_lidar, counted_points, velocity_lidar)"
   ]
  },
  {
   "cell_type": "code",
   "execution_count": 23,
   "id": "alone-reynolds",
   "metadata": {},
   "outputs": [],
   "source": [
    "v_neg_mean, v_pos_mean = get_neg_pos_mean_velocities(velocity_lidar)"
   ]
  },
  {
   "cell_type": "code",
   "execution_count": 24,
   "id": "alone-council",
   "metadata": {},
   "outputs": [
    {
     "data": {
      "image/png": "[encoded data removed]",
      "text/plain": [
       "<Figure size 720x576 with 1 Axes>"
      ]
     },
     "metadata": {
      "needs_background": "light"
     },
     "output_type": "display_data"
    }
   ],
   "source": [
    "%matplotlib inline\n",
    "\n",
    "y_max = int(max(velocity_lidar) / 2) * 2 + 4\n",
    "x_max = 50\n",
    "\n",
    "fig, ax = plt.subplots(figsize=(10, 8))\n",
    "\n",
    "xticks = np.arange(-x_max, x_max, 5)\n",
    "yticks = np.arange(-y_max, y_max, 2)\n",
    "\n",
    "plt.axhline(0, color='black', lw=0.5)\n",
    "plt.axvline(0, color='black', lw=0.5)\n",
    "plt.scatter([0],[0], color='red', label='vortex center')\n",
    "\n",
    "ax.scatter(radial_distance, velocity_lidar, color='blue', label='LiDAR envelope')\n",
    "ax.scatter(distance_for_fitting, velocity_for_fitting, marker='+', color='orange', \\\n",
    "           lw=2, label='selected points')\n",
    "ax.plot(radial_distance_model, velocity_model, color='green', label='model')\n",
    "\n",
    "plt.axhline(v_neg_mean, color='orange', lw=1, ls='-.', label='cut-off lines')\n",
    "plt.axhline(v_pos_mean, color='orange', lw=1, ls='-.')\n",
    "\n",
    "ax.set(xlabel='distance from vortex center (m)', ylabel='velocity (m/s)', title='Vortex profile')\n",
    "ax.set_xticks(xticks)\n",
    "ax.set_yticks(yticks)\n",
    "\n",
    "plt.xlim(-x_max, x_max)\n",
    "plt.ylim(-y_max, y_max)\n",
    "\n",
    "plt.grid(b=True)\n",
    "\n",
    "fig.savefig(\"./images/single_lidar_envelope_with_selected_points.png\")\n",
    "plt.legend()\n",
    "plt.show()"
   ]
  },
  {
   "cell_type": "markdown",
   "id": "subsequent-audio",
   "metadata": {},
   "source": [
    "### Fit the LiDAR profile with the built-in function curve_fit"
   ]
  },
  {
   "cell_type": "code",
   "execution_count": 25,
   "id": "refined-hayes",
   "metadata": {},
   "outputs": [],
   "source": [
    "fitted_values, pcov = curve_fit(modified_burnham_hallock, \n",
    "                                distance_for_fitting, \n",
    "                                velocity_for_fitting, \n",
    "                                p0 = [100,1,0,0])"
   ]
  },
  {
   "cell_type": "markdown",
   "id": "applied-israel",
   "metadata": {},
   "source": [
    "### Comparisons"
   ]
  },
  {
   "cell_type": "markdown",
   "id": "continued-services",
   "metadata": {},
   "source": [
    "#### Comparison of fitted characteristics with initial characteristics"
   ]
  },
  {
   "cell_type": "code",
   "execution_count": 26,
   "id": "celtic-profile",
   "metadata": {},
   "outputs": [
    {
     "data": {
      "text/html": [
       "<div>\n",
       "<style scoped>\n",
       "    .dataframe tbody tr th:only-of-type {\n",
       "        vertical-align: middle;\n",
       "    }\n",
       "\n",
       "    .dataframe tbody tr th {\n",
       "        vertical-align: top;\n",
       "    }\n",
       "\n",
       "    .dataframe thead th {\n",
       "        text-align: right;\n",
       "    }\n",
       "</style>\n",
       "<table border=\"1\" class=\"dataframe\">\n",
       "  <thead>\n",
       "    <tr style=\"text-align: right;\">\n",
       "      <th></th>\n",
       "      <th>Original</th>\n",
       "      <th>Fit</th>\n",
       "      <th>Error</th>\n",
       "      <th>Rel. error (%)</th>\n",
       "    </tr>\n",
       "  </thead>\n",
       "  <tbody>\n",
       "    <tr>\n",
       "      <th>Circulation [m^2/s]</th>\n",
       "      <td>300.00</td>\n",
       "      <td>302.51</td>\n",
       "      <td>-2.51</td>\n",
       "      <td>-0.84</td>\n",
       "    </tr>\n",
       "    <tr>\n",
       "      <th>Core radius [m]</th>\n",
       "      <td>4.00</td>\n",
       "      <td>4.06</td>\n",
       "      <td>-0.06</td>\n",
       "      <td>-1.47</td>\n",
       "    </tr>\n",
       "    <tr>\n",
       "      <th>Delta_r [m]</th>\n",
       "      <td>0.26</td>\n",
       "      <td>0.01</td>\n",
       "      <td>0.25</td>\n",
       "      <td>96.31</td>\n",
       "    </tr>\n",
       "    <tr>\n",
       "      <th>Delta_V [m/s]</th>\n",
       "      <td>-0.47</td>\n",
       "      <td>-0.47</td>\n",
       "      <td>0.00</td>\n",
       "      <td>-0.26</td>\n",
       "    </tr>\n",
       "  </tbody>\n",
       "</table>\n",
       "</div>"
      ],
      "text/plain": [
       "                     Original     Fit  Error  Rel. error (%)\n",
       "Circulation [m^2/s]    300.00  302.51  -2.51           -0.84\n",
       "Core radius [m]          4.00    4.06  -0.06           -1.47\n",
       "Delta_r [m]              0.26    0.01   0.25           96.31\n",
       "Delta_V [m/s]           -0.47   -0.47   0.00           -0.26"
      ]
     },
     "execution_count": 26,
     "metadata": {},
     "output_type": "execute_result"
    }
   ],
   "source": [
    "original_values = [circulation, core_radius, Delta_r, Delta_V]\n",
    "\n",
    "comparison_table = pd.DataFrame({'Original': original_values, 'Fit': fitted_values, \n",
    "                                 'Error': original_values - fitted_values,\n",
    "                                 'Rel. error (%)': 100 * (original_values - fitted_values) / original_values},\n",
    "                                index=['Circulation [m^2/s]', 'Core radius [m]', \n",
    "                                       'Delta_r [m]', 'Delta_V [m/s]'])\n",
    "\n",
    "comparison_table.round(2)"
   ]
  },
  {
   "cell_type": "markdown",
   "id": "seeing-hepatitis",
   "metadata": {},
   "source": [
    "Based on these original characteristics, core radius and circulation are well estimated."
   ]
  },
  {
   "cell_type": "code",
   "execution_count": 27,
   "id": "purple-greece",
   "metadata": {},
   "outputs": [],
   "source": [
    "def root_mean_square_error(velocity_for_fitting, velocity_from_fitting):\n",
    "    \"\"\"\n",
    "    velocity_for_fitting: numpy array containing the velocity profile before fitting\n",
    "    velocity_from_fitting: numpy array containing the fitted velocity profile\n",
    "    ---\n",
    "    Returns the root-mean-square error of the fit\n",
    "    \"\"\"\n",
    "    return sqrt(mean_squared_error(velocity_for_fitting, velocity_from_fitting))"
   ]
  },
  {
   "cell_type": "code",
   "execution_count": 28,
   "id": "welcome-alert",
   "metadata": {},
   "outputs": [
    {
     "name": "stdout",
     "output_type": "stream",
     "text": [
      "The root-mean-square error is 0.289 m/s\n"
     ]
    }
   ],
   "source": [
    "velocity_from_fitting = modified_burnham_hallock(distance_for_fitting, \n",
    "                                                 circulation, \n",
    "                                                 core_radius, \n",
    "                                                 Delta_r, Delta_V)\n",
    "\n",
    "RMSE = root_mean_square_error(velocity_for_fitting, velocity_from_fitting)\n",
    "\n",
    "print(f\"The root-mean-square error is {RMSE:0.3f} m/s\")"
   ]
  },
  {
   "cell_type": "markdown",
   "id": "alive-summer",
   "metadata": {},
   "source": [
    "#### Comparison of original, re-constructed and fitted profiles all together"
   ]
  },
  {
   "cell_type": "code",
   "execution_count": 29,
   "id": "personalized-purpose",
   "metadata": {},
   "outputs": [],
   "source": [
    "velocity_from_fitting = modified_burnham_hallock(radial_distance_model, \n",
    "                                                 circulation, \n",
    "                                                 core_radius, \n",
    "                                                 Delta_r, Delta_V)"
   ]
  },
  {
   "cell_type": "code",
   "execution_count": 30,
   "id": "available-wiring",
   "metadata": {},
   "outputs": [
    {
     "data": {
      "image/png": "[encoded data removed]",
      "text/plain": [
       "<Figure size 720x576 with 1 Axes>"
      ]
     },
     "metadata": {
      "needs_background": "light"
     },
     "output_type": "display_data"
    }
   ],
   "source": [
    "%matplotlib inline\n",
    "\n",
    "y_max = int(max(velocity_lidar) / 2) * 2 + 4\n",
    "x_max = 50\n",
    "\n",
    "fig, ax = plt.subplots(figsize=(10, 8))\n",
    "\n",
    "xticks = np.arange(-x_max, x_max, 5)\n",
    "yticks = np.arange(-y_max, y_max, 2)\n",
    "\n",
    "plt.axhline(0, color='black', lw=0.5)\n",
    "plt.axvline(0, color='black', lw=0.5)\n",
    "plt.scatter([0],[0], color='red', label='vortex center')\n",
    "\n",
    "ax.scatter(radial_distance, velocity_lidar, color='blue', label='LiDAR envelope')\n",
    "ax.scatter(distance_for_fitting, velocity_for_fitting, marker='+', color='orange', \\\n",
    "           lw=2, label='selected points')\n",
    "ax.plot(radial_distance_model, velocity_model, color='green', label='model')\n",
    "ax.plot(radial_distance_model, velocity_from_fitting, color='green', ls='--', label='fit')\n",
    "\n",
    "plt.axhline(v_neg_mean, color='orange', lw=1, ls='-.', label='cut-off lines')\n",
    "plt.axhline(v_pos_mean, color='orange', lw=1, ls='-.')\n",
    "\n",
    "ax.set(xlabel='distance from vortex center (m)', ylabel='velocity (m/s)', title='Vortex profile')\n",
    "ax.set_xticks(xticks)\n",
    "ax.set_yticks(yticks)\n",
    "\n",
    "plt.xlim(-x_max, x_max)\n",
    "plt.ylim(-y_max, y_max)\n",
    "\n",
    "plt.grid(b=True)\n",
    "\n",
    "fig.savefig(\"./images/single_lidar_envelope_with_fit.png\")\n",
    "plt.legend()\n",
    "plt.show()"
   ]
  },
  {
   "cell_type": "markdown",
   "id": "revised-great",
   "metadata": {},
   "source": [
    "## Circulation between 5 and 15m\n",
    "\n",
    "The circulation of a single vortex is a function of radial distance from the vortex center r and the tangential velocity V(r)\n",
    "\n",
    "$\\Gamma(r) = 2 \\pi r V(r)$\n",
    "\n",
    "In cases of wake vortex analysis the standardized circulation is the circulation calculated between 5 and 15m from the vortex center, i.e. the averaged integral within this range."
   ]
  },
  {
   "cell_type": "markdown",
   "id": "coupled-surrey",
   "metadata": {},
   "source": [
    "### Integral form"
   ]
  },
  {
   "cell_type": "markdown",
   "id": "established-optimization",
   "metadata": {},
   "source": [
    "The integral form is used to calculated the circulation of the original and fitted profiles"
   ]
  },
  {
   "cell_type": "code",
   "execution_count": 31,
   "id": "liberal-rating",
   "metadata": {},
   "outputs": [],
   "source": [
    "def gamma5to15_full_integral(model, a, b, gamma, rc, delta_r=0, delta_V=0):\n",
    "    \"\"\"\n",
    "    model: vortex model among burnham-hallock, lamb_oseen and rankine\n",
    "    a: lower limit of integration\n",
    "    b: upper limit of integration\n",
    "    gamma: circulation in m^2/s\n",
    "    rc: core_radius in m\n",
    "    delta_r: radial shift in m\n",
    "    delta_V: tangential velocity shift in m/s\n",
    "    ---\n",
    "    Returns the averaged integral of the circulation from a to b\n",
    "    \"\"\"\n",
    "    return integrate.quad(lambda r: 2 * pi * r * model(r, gamma, rc, delta_r, delta_V), a, b)[0] / (b - a)"
   ]
  },
  {
   "cell_type": "markdown",
   "id": "stone-garage",
   "metadata": {},
   "source": [
    "#### Circulation 5-15m of the original data"
   ]
  },
  {
   "cell_type": "code",
   "execution_count": 32,
   "id": "ethical-handy",
   "metadata": {},
   "outputs": [],
   "source": [
    "Gamma5to15_full = gamma5to15_full_integral(modified_burnham_hallock, 5, 15, circulation, core_radius)"
   ]
  },
  {
   "cell_type": "code",
   "execution_count": 33,
   "id": "enhanced-aside",
   "metadata": {},
   "outputs": [
    {
     "name": "stdout",
     "output_type": "stream",
     "text": [
      "The circulation 5-15m for this vortex is 250.3 m^2\n",
      "This represents 83.4 % of the circulation\n"
     ]
    }
   ],
   "source": [
    "print(f\"The circulation 5-15m for this vortex is {Gamma5to15_full:0.1f} m^2\")\n",
    "print(f\"This represents {100*Gamma5to15_full/circulation:0.1f} % of the circulation\")"
   ]
  },
  {
   "cell_type": "markdown",
   "id": "historic-transcript",
   "metadata": {},
   "source": [
    "#### Circulation 5-15m of the fitted data"
   ]
  },
  {
   "cell_type": "code",
   "execution_count": 34,
   "id": "charming-iraqi",
   "metadata": {},
   "outputs": [],
   "source": [
    "Gamma5to15_fitted = gamma5to15_full_integral(modified_burnham_hallock,\n",
    "                                             5, 15, \n",
    "                                             fitted_values[0], \n",
    "                                             fitted_values[1],\n",
    "                                             fitted_values[2],\n",
    "                                             fitted_values[3])"
   ]
  },
  {
   "cell_type": "code",
   "execution_count": 35,
   "id": "functioning-lease",
   "metadata": {},
   "outputs": [
    {
     "name": "stdout",
     "output_type": "stream",
     "text": [
      "The circulation 5-15m for this vortex is 221.6 m^2\n",
      "This represents 73.9 % of the circulation\n"
     ]
    }
   ],
   "source": [
    "print(f\"The circulation 5-15m for this vortex is {Gamma5to15_fitted:0.1f} m^2\")\n",
    "print(f\"This represents {100*Gamma5to15_fitted/circulation:0.1f} % of the circulation\")"
   ]
  },
  {
   "cell_type": "markdown",
   "id": "civilian-evans",
   "metadata": {},
   "source": [
    "### Discrete form"
   ]
  },
  {
   "cell_type": "markdown",
   "id": "opening-michael",
   "metadata": {},
   "source": [
    "The discrete form is used to calculate the circulation of the LiDAR profile."
   ]
  },
  {
   "cell_type": "code",
   "execution_count": 36,
   "id": "bored-pollution",
   "metadata": {},
   "outputs": [],
   "source": [
    "def gamma5to15_selection_of_points(radial_distance, velocity, a, b):\n",
    "    \"\"\"\n",
    "    radial distance: distance from the vortex center as numpy array\n",
    "    velocity: velocity profile (envelope) as a numpy array\n",
    "    a: lower limit of integration\n",
    "    b: upper limit of integration\n",
    "    ---\n",
    "    Returns the selected points between a and b    \"\"\"\n",
    "    preselected_r = radial_distance[np.abs(radial_distance) <= b]\n",
    "    preselected_V = velocity[np.abs(radial_distance) <= b]\n",
    "    \n",
    "    selected_r = preselected_r[np.abs(preselected_r) >= a]\n",
    "    selected_V = preselected_V[np.abs(preselected_r) >= a]\n",
    "\n",
    "    return selected_r, selected_V"
   ]
  },
  {
   "cell_type": "code",
   "execution_count": 37,
   "id": "physical-taste",
   "metadata": {},
   "outputs": [],
   "source": [
    "def gamma5to15_discrete_integral(radial_distance, velocity, a, b):\n",
    "    \"\"\"\n",
    "    radial distance: distance from the vortex center as numpy array\n",
    "    velocity: velocity profile (envelope) as a numpy array\n",
    "    a: lower limit of integration\n",
    "    b: upper limit of integration\n",
    "    ---\n",
    "    Returns the averaged circulation between a and b\n",
    "    \"\"\"\n",
    "    selected_r, selected_V = gamma5to15_selection_of_points(radial_distance, velocity, a, b)\n",
    "    return np.sum(2 * pi * selected_r * selected_V) / len(selected_r)"
   ]
  },
  {
   "cell_type": "code",
   "execution_count": 38,
   "id": "confused-european",
   "metadata": {},
   "outputs": [],
   "source": [
    "Gamma5to15_discrete = gamma5to15_discrete_integral(radial_distance, velocity_lidar, 5, 15)"
   ]
  },
  {
   "cell_type": "code",
   "execution_count": 39,
   "id": "stretch-logging",
   "metadata": {},
   "outputs": [
    {
     "name": "stdout",
     "output_type": "stream",
     "text": [
      "The circulation 5-15m for this vortex is 251.0 m^2\n",
      "This represents 83.7 % of the circulation\n"
     ]
    }
   ],
   "source": [
    "print(f\"The circulation 5-15m for this vortex is {Gamma5to15_discrete:0.1f} m^2\")\n",
    "print(f\"This represents {100*Gamma5to15_discrete/circulation:0.1f} % of the circulation\")"
   ]
  },
  {
   "cell_type": "markdown",
   "id": "advisory-geneva",
   "metadata": {},
   "source": [
    "### Comparison of circulations"
   ]
  },
  {
   "cell_type": "code",
   "execution_count": 40,
   "id": "introductory-sheet",
   "metadata": {},
   "outputs": [
    {
     "data": {
      "text/html": [
       "<div>\n",
       "<style scoped>\n",
       "    .dataframe tbody tr th:only-of-type {\n",
       "        vertical-align: middle;\n",
       "    }\n",
       "\n",
       "    .dataframe tbody tr th {\n",
       "        vertical-align: top;\n",
       "    }\n",
       "\n",
       "    .dataframe thead th {\n",
       "        text-align: right;\n",
       "    }\n",
       "</style>\n",
       "<table border=\"1\" class=\"dataframe\">\n",
       "  <thead>\n",
       "    <tr style=\"text-align: right;\">\n",
       "      <th></th>\n",
       "      <th>Circulation 5-15m [m^2/s]</th>\n",
       "      <th>Error</th>\n",
       "      <th>Rel. error (%)</th>\n",
       "    </tr>\n",
       "  </thead>\n",
       "  <tbody>\n",
       "    <tr>\n",
       "      <th>Original</th>\n",
       "      <td>250.30</td>\n",
       "      <td>0.00</td>\n",
       "      <td>0.00</td>\n",
       "    </tr>\n",
       "    <tr>\n",
       "      <th>LiDAR</th>\n",
       "      <td>250.98</td>\n",
       "      <td>0.67</td>\n",
       "      <td>0.27</td>\n",
       "    </tr>\n",
       "    <tr>\n",
       "      <th>Fitted</th>\n",
       "      <td>221.60</td>\n",
       "      <td>-28.70</td>\n",
       "      <td>-11.47</td>\n",
       "    </tr>\n",
       "  </tbody>\n",
       "</table>\n",
       "</div>"
      ],
      "text/plain": [
       "          Circulation 5-15m [m^2/s]  Error  Rel. error (%)\n",
       "Original                     250.30   0.00            0.00\n",
       "LiDAR                        250.98   0.67            0.27\n",
       "Fitted                       221.60 -28.70          -11.47"
      ]
     },
     "execution_count": 40,
     "metadata": {},
     "output_type": "execute_result"
    }
   ],
   "source": [
    "circulations = np.array([Gamma5to15_full, Gamma5to15_discrete, Gamma5to15_fitted])\n",
    "\n",
    "comparison_table = pd.DataFrame({'Circulation 5-15m [m^2/s]': circulations, \n",
    "                                 'Error': circulations - circulations[0], \n",
    "                                 'Rel. error (%)': 100 * (circulations - circulations[0]) / circulations[0]},\n",
    "                                index=['Original', 'LiDAR', 'Fitted'])\n",
    "\n",
    "comparison_table.round(2)"
   ]
  },
  {
   "cell_type": "markdown",
   "id": "heard-graduate",
   "metadata": {},
   "source": [
    "# Analysis of LiDAR measurements - batch analysis"
   ]
  },
  {
   "cell_type": "markdown",
   "id": "civilian-attention",
   "metadata": {},
   "source": [
    "In this part, several vortices are randomly generated and then analysed by the fitting method and circulation calculation. They are finally compared with the original data to assess the methodology."
   ]
  },
  {
   "cell_type": "markdown",
   "id": "colonial-halloween",
   "metadata": {},
   "source": [
    "## Generation of random vortex profiles"
   ]
  },
  {
   "cell_type": "markdown",
   "id": "computational-eligibility",
   "metadata": {},
   "source": [
    "The number of vortices is set to"
   ]
  },
  {
   "cell_type": "code",
   "execution_count": 41,
   "id": "natural-cemetery",
   "metadata": {},
   "outputs": [],
   "source": [
    "n_vortices = 1000"
   ]
  },
  {
   "cell_type": "markdown",
   "id": "stuck-harmony",
   "metadata": {},
   "source": [
    "The vortex circulation is assumed to be uniformly distributed in the range between 100 and 600 m^2/s."
   ]
  },
  {
   "cell_type": "code",
   "execution_count": 42,
   "id": "alternate-cooperative",
   "metadata": {},
   "outputs": [],
   "source": [
    "circulations = np.random.randint(100, 600, n_vortices)"
   ]
  },
  {
   "cell_type": "markdown",
   "id": "noticed-helmet",
   "metadata": {},
   "source": [
    "The core size or vortex radius is assumed to be uniformly distributed in the range between 1 and 5 m. "
   ]
  },
  {
   "cell_type": "code",
   "execution_count": 43,
   "id": "incorporate-subdivision",
   "metadata": {},
   "outputs": [],
   "source": [
    "sizes = np.random.randint(100, 500, n_vortices) / 100.0"
   ]
  },
  {
   "cell_type": "markdown",
   "id": "prescription-dividend",
   "metadata": {},
   "source": [
    "All vortex profiles are generated between -100 and 100m with random resolution."
   ]
  },
  {
   "cell_type": "code",
   "execution_count": 44,
   "id": "irish-belly",
   "metadata": {},
   "outputs": [],
   "source": [
    "r_max = 100\n",
    "r_min = -r_max\n",
    "\n",
    "resolutions = np.array([set_lidar_resolution() for _ in range(n_vortices)])"
   ]
  },
  {
   "cell_type": "code",
   "execution_count": 45,
   "id": "silent-blade",
   "metadata": {},
   "outputs": [],
   "source": [
    "generated_velocities = [generate_lidar_envelope(np.arange(r_min, r_max+resolutions[n], resolutions[n]), \n",
    "                             circulations[n], sizes[n]) for n in range(n_vortices)]\n",
    "\n",
    "velocities = [generated_velocities[n][0] for n in range(n_vortices)]\n",
    "delta_r = [generated_velocities[n][1] for n in range(n_vortices)]\n",
    "delta_v = [generated_velocities[n][2] for n in range(n_vortices)]"
   ]
  },
  {
   "cell_type": "code",
   "execution_count": 46,
   "id": "acceptable-acceptance",
   "metadata": {},
   "outputs": [],
   "source": [
    "radial_distances = [np.arange(r_min, r_max+resolutions[n], resolutions[n]) for n in range(n_vortices)]"
   ]
  },
  {
   "cell_type": "markdown",
   "id": "congressional-worst",
   "metadata": {},
   "source": [
    "The generated vortex profiles are gathered in a single list"
   ]
  },
  {
   "cell_type": "code",
   "execution_count": 47,
   "id": "fuzzy-group",
   "metadata": {},
   "outputs": [],
   "source": [
    "profiles = [circulations, sizes, radial_distances, velocities, delta_r, delta_v]"
   ]
  },
  {
   "cell_type": "markdown",
   "id": "inside-charleston",
   "metadata": {},
   "source": [
    "The first 10 profiles are plotted for checking"
   ]
  },
  {
   "cell_type": "code",
   "execution_count": 48,
   "id": "steady-bacteria",
   "metadata": {},
   "outputs": [
    {
     "data": {
      "image/png": "[encoded data removed]",
      "text/plain": [
       "<Figure size 720x576 with 1 Axes>"
      ]
     },
     "metadata": {
      "needs_background": "light"
     },
     "output_type": "display_data"
    }
   ],
   "source": [
    "fig, ax = plt.subplots(figsize=(10, 8))\n",
    "\n",
    "for i in range(10):\n",
    "    plt.plot(radial_distances[i], velocities[i])\n",
    "    \n",
    "ax.set(xlabel='distance from vortex center (m)', ylabel='velocity (m/s)', title='Examples of vortex profiles')\n",
    "\n",
    "plt.grid(b=True)\n",
    "\n",
    "fig.savefig(\"./images/example_of_lidar_envelopes.png\")\n",
    "plt.show()"
   ]
  }
 ],
 "metadata": {
  "kernelspec": {
   "display_name": "Python 3",
   "language": "python",
   "name": "python3"
  },
  "language_info": {
   "codemirror_mode": {
    "name": "ipython",
    "version": 3
   },
   "file_extension": ".py",
   "mimetype": "text/x-python",
   "name": "python",
   "nbconvert_exporter": "python",
   "pygments_lexer": "ipython3",
   "version": "3.8.8"
  }
 },
 "nbformat": 4,
 "nbformat_minor": 5
}
